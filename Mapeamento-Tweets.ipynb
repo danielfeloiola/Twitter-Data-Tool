{
 "cells": [
  {
   "cell_type": "code",
   "execution_count": 4,
   "metadata": {},
   "outputs": [
    {
     "data": {
      "text/html": [
       "<div style=\"width:100%;\"><div style=\"position:relative;width:100%;height:0;padding-bottom:60%;\"><iframe src=\"data:text/html;charset=utf-8;base64,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\" style=\"position:absolute;width:100%;height:100%;left:0;top:0;border:none !important;\" allowfullscreen webkitallowfullscreen mozallowfullscreen></iframe></div></div>"
      ],
      "text/plain": [
       "<folium.folium.Map at 0x105d0e7f0>"
      ]
     },
     "execution_count": 4,
     "metadata": {},
     "output_type": "execute_result"
    }
   ],
   "source": [
    "###########################################\n",
    "# Ferramenta de coleta de dados do Twitter\n",
    "# Mapeamento de Tweets de um usuario\n",
    "# janeiro de 2018\n",
    "# Curso do Knight Center\n",
    "# Tweepy para acessar o Twitter\n",
    "###########################################\n",
    "\n",
    "#importanto coisas importantes\n",
    "import tweepy\n",
    "from wordcloud import WordCloud\n",
    "import matplotlib.pyplot as plt\n",
    "import re\n",
    "\n",
    "#cria uma api do twitter\n",
    "consumer_key = '5cfMmUqGQFk6dMQVH3JpnywHe'\n",
    "consumer_secret = 'K8RFES5NNBzfLGjqjNHlmF4w1L4yqAJzZdRmY4XwPe3RMdJVJn'\n",
    "access_token = '270575199-'\n",
    "access_token_secret = ''\n",
    "auth = tweepy.OAuthHandler(consumer_key, consumer_secret)\n",
    "auth.set_access_token(access_token, access_token_secret)\n",
    "api = tweepy.API(auth)\n",
    "\n",
    "# QUE ARROBA VC ESTA PROCURANDO??\n",
    "usuario = ''\n",
    "\n",
    "#importa a bibliotaca que gera o mapa\n",
    "import folium\n",
    "\n",
    "#pede a timeline\n",
    "status_list = api.user_timeline(usuario, count=3200, include_rts=False)\n",
    "\n",
    "#listas de coordenadas e nomes de cidades\n",
    "lista_de_coordenadas = []\n",
    "lista_de_nomes = []\n",
    "\n",
    "#Coleta o dado de cidades embedado em um Tweet\n",
    "for status in status_list:\n",
    "    if status.place != None:\n",
    "        dados_lugar = status.place\n",
    "        #print(dados_lugar)\n",
    "\n",
    "        nome = dados_lugar.name\n",
    "        lista_de_nomes.append(nome)\n",
    "        #print(nome)\n",
    "\n",
    "        box = dados_lugar.bounding_box\n",
    "        #print(box)\n",
    "\n",
    "        coordenadas = box.coordinates\n",
    "        #print(coordenadas)\n",
    "\n",
    "        coords = coordenadas[0]\n",
    "        #print(coords)\n",
    "\n",
    "        coordenadas_agora_vai = coords[0]\n",
    "        coordenadas_agora_vai.reverse()\n",
    "        #print(coordenadas_agora_vai)\n",
    "        lista_de_coordenadas.append(coordenadas_agora_vai)\n",
    "\n",
    "#Coleta dados de GPS embedados em um tweet\n",
    "for status in status_list:\n",
    "    if status.coordinates != None:\n",
    "        dados_lugar = status.coordinates\n",
    "        coordenadas = dados_lugar['coordinates']\n",
    "        coordenadas_agora_vai = coordenadas\n",
    "        coordenadas_agora_vai.reverse()\n",
    "        lista_de_coordenadas.append(coordenadas_agora_vai)\n",
    "        lista_de_nomes.append('Dados de GPS')\n",
    "\n",
    "\n",
    "if not lista_de_coordenadas:\n",
    "    print('Este usuario nao tem tweets com dados de geolocalizacao')\n",
    "\n",
    "\n",
    "#cria o mapa       \n",
    "mapa = folium.Map(location=[-12, -49], zoom_start=4)\n",
    "\n",
    "#reitera pela lista de lugares e adiciona os marcadores\n",
    "numero = len(lista_de_nomes)\n",
    "for i in range(numero):\n",
    "    folium.Marker(lista_de_coordenadas[i], popup=lista_de_nomes[i]).add_to(mapa)##colocar a localização e o nome\n",
    "\n",
    "#renderiza o mapa\n",
    "mapa\n",
    "\n"
   ]
  }
 ],
 "metadata": {
  "kernelspec": {
   "display_name": "Python 3",
   "language": "python",
   "name": "python3"
  },
  "language_info": {
   "codemirror_mode": {
    "name": "ipython",
    "version": 3
   },
   "file_extension": ".py",
   "mimetype": "text/x-python",
   "name": "python",
   "nbconvert_exporter": "python",
   "pygments_lexer": "ipython3",
   "version": "3.6.3"
  }
 },
 "nbformat": 4,
 "nbformat_minor": 2
}
