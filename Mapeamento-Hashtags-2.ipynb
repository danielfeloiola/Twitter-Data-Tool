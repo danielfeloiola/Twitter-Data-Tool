{
 "cells": [
  {
   "cell_type": "code",
   "execution_count": null,
   "metadata": {},
   "outputs": [],
   "source": [
    "###########################################\n",
    "# Ferramenta de coleta de dados do Twitter\n",
    "# Mapeamento de Hashtags\n",
    "# janeiro de 2018\n",
    "# Curso do Knight Center\n",
    "# Tweepy para acessar o Twitter\n",
    "###########################################\n",
    "\n",
    "#importanto coisas importantes\n",
    "import tweepy\n",
    "from wordcloud import WordCloud\n",
    "import matplotlib.pyplot as plt\n",
    "import re\n",
    "\n",
    "#cria uma api do twitter\n",
    "consumer_key = ''\n",
    "consumer_secret = ''\n",
    "access_token = ''\n",
    "access_token_secret = ''\n",
    "auth = tweepy.OAuthHandler(consumer_key, consumer_secret)\n",
    "auth.set_access_token(access_token, access_token_secret)\n",
    "api = tweepy.API(auth)\n",
    "\n",
    "# QUE HASHTAG VC ESTA PROCURANDO??\n",
    "hashtag = '#nopainnogain'\n",
    "\n",
    "tweets = tweepy.Cursor(api.search, q=hashtag, rpp=100).items(900)\n",
    "#############\n",
    "\n",
    "\n",
    "#importa o folium\n",
    "import folium\n",
    "\n",
    "#listas de coordenadas e nomes de cidades\n",
    "lista_de_coordenadas = []\n",
    "\n",
    "#esse comentario e completamente inutil\n",
    "for tweet in tweets:\n",
    "\n",
    "    if tweet.place != None:\n",
    "        dados_lugar = tweet.place\n",
    "        box = dados_lugar.bounding_box\n",
    "        coordenadas = box.coordinates\n",
    "        coords = coordenadas[0]\n",
    "        coordenadas_agora_vai = coords[0]\n",
    "        coordenadas_agora_vai.reverse()\n",
    "        lista_de_coordenadas.append(coordenadas_agora_vai)\n",
    "\n",
    "#cria o mapa       \n",
    "mapa = folium.Map(location=[-12, -49], zoom_start=4)\n",
    "\n",
    "#reitera pela lista de lugares e adiciona os marcadores\n",
    "numero = len(lista_de_coordenadas)\n",
    "for i in range(numero):\n",
    "    folium.RegularPolygonMarker(lista_de_coordenadas[i],fill_color='#769d96',number_of_sides=8,radius=5).add_to(mapa)\n",
    "    \n",
    "#renderiza o mapa\n",
    "mapa\n",
    "\n"
   ]
  },
  {
   "cell_type": "code",
   "execution_count": null,
   "metadata": {},
   "outputs": [],
   "source": []
  },
  {
   "cell_type": "code",
   "execution_count": null,
   "metadata": {},
   "outputs": [],
   "source": []
  }
 ],
 "metadata": {
  "kernelspec": {
   "display_name": "Python 3",
   "language": "python",
   "name": "python3"
  },
  "language_info": {
   "codemirror_mode": {
    "name": "ipython",
    "version": 3
   },
   "file_extension": ".py",
   "mimetype": "text/x-python",
   "name": "python",
   "nbconvert_exporter": "python",
   "pygments_lexer": "ipython3",
   "version": "3.6.3"
  }
 },
 "nbformat": 4,
 "nbformat_minor": 2
}
