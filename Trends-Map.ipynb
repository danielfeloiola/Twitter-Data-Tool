{
 "cells": [
  {
   "cell_type": "code",
   "execution_count": 216,
   "metadata": {},
   "outputs": [
    {
     "ename": "RateLimitError",
     "evalue": "[{'message': 'Rate limit exceeded', 'code': 88}]",
     "output_type": "error",
     "traceback": [
      "\u001b[0;31m---------------------------------------------------------------------------\u001b[0m",
      "\u001b[0;31mRateLimitError\u001b[0m                            Traceback (most recent call last)",
      "\u001b[0;32m<ipython-input-216-2b6c71fb567a>\u001b[0m in \u001b[0;36m<module>\u001b[0;34m()\u001b[0m\n\u001b[1;32m     77\u001b[0m \u001b[0;34m\u001b[0m\u001b[0m\n\u001b[1;32m     78\u001b[0m     \u001b[0;31m#pede a timeline\u001b[0m\u001b[0;34m\u001b[0m\u001b[0;34m\u001b[0m\u001b[0m\n\u001b[0;32m---> 79\u001b[0;31m     \u001b[0mstatus_list\u001b[0m \u001b[0;34m=\u001b[0m \u001b[0mapi\u001b[0m\u001b[0;34m.\u001b[0m\u001b[0mtrends_place\u001b[0m\u001b[0;34m(\u001b[0m\u001b[0mlista_de_woeids\u001b[0m\u001b[0;34m[\u001b[0m\u001b[0mi\u001b[0m\u001b[0;34m]\u001b[0m\u001b[0;34m)\u001b[0m\u001b[0;34m\u001b[0m\u001b[0m\n\u001b[0m\u001b[1;32m     80\u001b[0m     \u001b[0mtrending\u001b[0m \u001b[0;34m=\u001b[0m \u001b[0mstatus_list\u001b[0m\u001b[0;34m[\u001b[0m\u001b[0;36m0\u001b[0m\u001b[0;34m]\u001b[0m\u001b[0;34m\u001b[0m\u001b[0m\n\u001b[1;32m     81\u001b[0m     \u001b[0mtrends_de_verdade\u001b[0m \u001b[0;34m=\u001b[0m \u001b[0mtrending\u001b[0m\u001b[0;34m[\u001b[0m\u001b[0;34m'trends'\u001b[0m\u001b[0;34m]\u001b[0m\u001b[0;34m\u001b[0m\u001b[0m\n",
      "\u001b[0;32m/Library/Frameworks/Python.framework/Versions/3.6/lib/python3.6/site-packages/tweepy/binder.py\u001b[0m in \u001b[0;36m_call\u001b[0;34m(*args, **kwargs)\u001b[0m\n\u001b[1;32m    243\u001b[0m             \u001b[0;32mreturn\u001b[0m \u001b[0mmethod\u001b[0m\u001b[0;34m\u001b[0m\u001b[0m\n\u001b[1;32m    244\u001b[0m         \u001b[0;32melse\u001b[0m\u001b[0;34m:\u001b[0m\u001b[0;34m\u001b[0m\u001b[0m\n\u001b[0;32m--> 245\u001b[0;31m             \u001b[0;32mreturn\u001b[0m \u001b[0mmethod\u001b[0m\u001b[0;34m.\u001b[0m\u001b[0mexecute\u001b[0m\u001b[0;34m(\u001b[0m\u001b[0;34m)\u001b[0m\u001b[0;34m\u001b[0m\u001b[0m\n\u001b[0m\u001b[1;32m    246\u001b[0m \u001b[0;34m\u001b[0m\u001b[0m\n\u001b[1;32m    247\u001b[0m     \u001b[0;31m# Set pagination mode\u001b[0m\u001b[0;34m\u001b[0m\u001b[0;34m\u001b[0m\u001b[0m\n",
      "\u001b[0;32m/Library/Frameworks/Python.framework/Versions/3.6/lib/python3.6/site-packages/tweepy/binder.py\u001b[0m in \u001b[0;36mexecute\u001b[0;34m(self)\u001b[0m\n\u001b[1;32m    225\u001b[0m \u001b[0;34m\u001b[0m\u001b[0m\n\u001b[1;32m    226\u001b[0m                 \u001b[0;32mif\u001b[0m \u001b[0mis_rate_limit_error_message\u001b[0m\u001b[0;34m(\u001b[0m\u001b[0merror_msg\u001b[0m\u001b[0;34m)\u001b[0m\u001b[0;34m:\u001b[0m\u001b[0;34m\u001b[0m\u001b[0m\n\u001b[0;32m--> 227\u001b[0;31m                     \u001b[0;32mraise\u001b[0m \u001b[0mRateLimitError\u001b[0m\u001b[0;34m(\u001b[0m\u001b[0merror_msg\u001b[0m\u001b[0;34m,\u001b[0m \u001b[0mresp\u001b[0m\u001b[0;34m)\u001b[0m\u001b[0;34m\u001b[0m\u001b[0m\n\u001b[0m\u001b[1;32m    228\u001b[0m                 \u001b[0;32melse\u001b[0m\u001b[0;34m:\u001b[0m\u001b[0;34m\u001b[0m\u001b[0m\n\u001b[1;32m    229\u001b[0m                     \u001b[0;32mraise\u001b[0m \u001b[0mTweepError\u001b[0m\u001b[0;34m(\u001b[0m\u001b[0merror_msg\u001b[0m\u001b[0;34m,\u001b[0m \u001b[0mresp\u001b[0m\u001b[0;34m,\u001b[0m \u001b[0mapi_code\u001b[0m\u001b[0;34m=\u001b[0m\u001b[0mapi_error_code\u001b[0m\u001b[0;34m)\u001b[0m\u001b[0;34m\u001b[0m\u001b[0m\n",
      "\u001b[0;31mRateLimitError\u001b[0m: [{'message': 'Rate limit exceeded', 'code': 88}]"
     ]
    }
   ],
   "source": [
    "###########################################\n",
    "# Ferramenta de coleta de dados do Twitter\n",
    "# Mapeamento de Tweets de um usuario\n",
    "# janeiro de 2018\n",
    "# Curso do Knight Center\n",
    "# Tweepy para acessar o Twitter\n",
    "###########################################\n",
    "\n",
    "#importanto coisas importantes\n",
    "import tweepy\n",
    "from wordcloud import WordCloud\n",
    "import matplotlib.pyplot as plt\n",
    "import re\n",
    "\n",
    "#cria uma api do twitter\n",
    "consumer_key = ''\n",
    "consumer_secret = ''\n",
    "access_token = ''\n",
    "access_token_secret = ''\n",
    "auth = tweepy.OAuthHandler(consumer_key, consumer_secret)\n",
    "auth.set_access_token(access_token, access_token_secret)\n",
    "api = tweepy.API(auth)\n",
    "\n",
    "#importa a bibliotaca que gera o mapa\n",
    "import folium\n",
    "\n",
    "lista_de_capitais = ['Manaus',\n",
    "                     'Salvador',\n",
    "                     'Fortaleza',\n",
    "                     'Brasília',\n",
    "                     'Goiânia',\n",
    "                     'São Luís',\n",
    "                     'Belo Horizonte',\n",
    "                     'Belém',\n",
    "                     'Curitiba',\n",
    "                     'Recife',\n",
    "                     'Rio de Janeiro',\n",
    "                     'Porto Alegre',\n",
    "                     'São Paulo']\n",
    "\n",
    "lista_de_coordenadas = [[ -3.07, -61.66],\n",
    "                        [-12.96, -38.51],\n",
    "                        [ -3.71, -38.54],\n",
    "                        [-15.83, -47.86],\n",
    "                        [-16.64, -49.31],\n",
    "                        [ -2.55, -44.30],\n",
    "                        [-18.10, -44.38],\n",
    "                        [ -5.53, -52.29],\n",
    "                        [-24.89, -51.55],\n",
    "                        [ -8.28, -35.07],\n",
    "                        [-22.84, -43.15],\n",
    "                        [-30.01, -51.22],\n",
    "                        [-23.55, -46.64]]\n",
    "\n",
    "lista_de_woeids = [\n",
    "                   455833,\n",
    "                   455826,\n",
    "                   455830,\n",
    "                   455819,\n",
    "                   455831,\n",
    "                   455834,\n",
    "                   455821,\n",
    "                   455820,\n",
    "                   455822,\n",
    "                   455824,\n",
    "                   455825,\n",
    "                   455823,\n",
    "                   455827]\n",
    "\n",
    "#cria o mapa       \n",
    "mapa = folium.Map(location=[-12, -49], zoom_start=4)\n",
    "contador = len(lista_de_capitais)\n",
    "\n",
    "for i in range(contador):\n",
    "\n",
    "    trends = []\n",
    "\n",
    "    #pede a timeline\n",
    "    status_list = api.trends_place(lista_de_woeids[i])\n",
    "    trending = status_list[0]\n",
    "    trends_de_verdade = trending['trends']\n",
    "    x = len(trends_de_verdade)\n",
    "    for num in range(x):\n",
    "        trends.append(trends_de_verdade[num]['name'])\n",
    "        \n",
    "    folium.Marker(lista_de_coordenadas[i], popup=trends[i] + trends[i+1] + trends[i+2]  + trends[i+3] + trends[i+4] + trends[i+5] + trends[i+6] + trends[i+7] + trends[i+8] + trends[i+9]).add_to(mapa)##colocar a localização e o nome   trends[i]\n",
    "    \n",
    "\n",
    "#renderiza o mapa\n",
    "mapa\n"
   ]
  },
  {
   "cell_type": "code",
   "execution_count": 201,
   "metadata": {},
   "outputs": [
    {
     "data": {
      "text/html": [
       "<div style=\"width:100%;\"><div style=\"position:relative;width:100%;height:0;padding-bottom:60%;\"><iframe src=\"data:text/html;charset=utf-8;base64,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\" style=\"position:absolute;width:100%;height:100%;left:0;top:0;border:none !important;\" allowfullscreen webkitallowfullscreen mozallowfullscreen></iframe></div></div>"
      ],
      "text/plain": [
       "<folium.folium.Map at 0x10c795128>"
      ]
     },
     "execution_count": 201,
     "metadata": {},
     "output_type": "execute_result"
    }
   ],
   "source": [
    "mapa = folium.Map(location=[-12, -49], zoom_start=4)\n",
    "\n",
    "x = len(trends_de_verdade)\n",
    "5\n",
    "for num in range(x):\n",
    "    trends.append(trends_de_verdade[num]['name'])\n",
    "\n",
    "tts = ' '.join(trends[:1])\n",
    "\n",
    "\n",
    "#print(i)\n",
    "folium.Marker(lista_de_coordenadas[i], popup=tts).add_to(mapa)##colocar a localização e o nome\n",
    "\n",
    "#renderiza o mapa\n",
    "mapa\n",
    "#print('test2')"
   ]
  },
  {
   "cell_type": "code",
   "execution_count": 202,
   "metadata": {},
   "outputs": [
    {
     "data": {
      "text/plain": [
       "str"
      ]
     },
     "execution_count": 202,
     "metadata": {},
     "output_type": "execute_result"
    }
   ],
   "source": [
    "type(tts)"
   ]
  },
  {
   "cell_type": "code",
   "execution_count": 119,
   "metadata": {},
   "outputs": [
    {
     "name": "stdout",
     "output_type": "stream",
     "text": [
      "Scarpa #SegundaDetremuraSDV #FanáticosFogão #NegoDoBorelNoTVZ AVRIL PLEASE COME BACK Dolores O'Riordan #AntisOverParty #FanaticosParana FCS SDV SO FCS Gabriel Novaes Tirei Você Emerson Sheik STREAM IDGAF Pogba Pablo Dyego Alan Ruiz Igor Gomes De Gea Sornoza LimanthaLoveWins Marcos Jr United Vamos São Paulo OrgulhoBrunaxCatarina As Branquelas BRAZIL LOVES THE GIFTED Valencia Lukaku Calabres Montemor Cleber Felipe Conceição Renato Chaves #CarinhaDeAnjo301 #SdvPrefiroTwitterDoQue #CoraçãoIndomável001 #OTGala11 #VoltaLucasMoura #JornaldaCultura #PromoRuffles #UmCaminhoParaODestino100 #LançamentoDEV8 #HugoHenriqueNaTrilhaDoSucesso #Belaventura125 #MTVHITSNaLAJE #boanoitefox #EmPauta #GTAVIDADOSMEMES #TomHollandNoBrasil #SextaFeiraNaMansão Scarpa #SegundaDetremuraSDV #FanáticosFogão #NegoDoBorelNoTVZ AVRIL PLEASE COME BACK Dolores O'Riordan #AntisOverParty #FanaticosParana FCS SDV SO FCS Gabriel Novaes Tirei Você Emerson Sheik STREAM IDGAF Pogba Pablo Dyego Alan Ruiz Igor Gomes De Gea Sornoza LimanthaLoveWins Marcos Jr United Vamos São Paulo OrgulhoBrunaxCatarina As Branquelas BRAZIL LOVES THE GIFTED Valencia Lukaku Calabres Montemor Cleber Felipe Conceição Renato Chaves #CarinhaDeAnjo301 #SdvPrefiroTwitterDoQue #CoraçãoIndomável001 #OTGala11 #VoltaLucasMoura #JornaldaCultura #PromoRuffles #UmCaminhoParaODestino100 #LançamentoDEV8 #HugoHenriqueNaTrilhaDoSucesso #Belaventura125 #MTVHITSNaLAJE #boanoitefox #EmPauta #GTAVIDADOSMEMES #TomHollandNoBrasil #SextaFeiraNaMansão Scarpa #SegundaDetremuraSDV #FanáticosFogão #NegoDoBorelNoTVZ AVRIL PLEASE COME BACK Dolores O'Riordan #AntisOverParty #FanaticosParana FCS SDV SO FCS Gabriel Novaes Tirei Você Emerson Sheik STREAM IDGAF Pogba Pablo Dyego Alan Ruiz Igor Gomes De Gea Sornoza LimanthaLoveWins Marcos Jr United Vamos São Paulo OrgulhoBrunaxCatarina As Branquelas BRAZIL LOVES THE GIFTED Valencia Lukaku Calabres Montemor Cleber Felipe Conceição Renato Chaves #CarinhaDeAnjo301 #SdvPrefiroTwitterDoQue #CoraçãoIndomável001 #OTGala11 #VoltaLucasMoura #JornaldaCultura #PromoRuffles #UmCaminhoParaODestino100 #LançamentoDEV8 #HugoHenriqueNaTrilhaDoSucesso #Belaventura125 #MTVHITSNaLAJE #boanoitefox #EmPauta #GTAVIDADOSMEMES #TomHollandNoBrasil #SextaFeiraNaMansão Scarpa #SegundaDetremuraSDV #FanáticosFogão #NegoDoBorelNoTVZ AVRIL PLEASE COME BACK Dolores O'Riordan #AntisOverParty #FanaticosParana FCS SDV SO FCS Gabriel Novaes Tirei Você Emerson Sheik STREAM IDGAF Pogba Pablo Dyego Alan Ruiz Igor Gomes De Gea Sornoza LimanthaLoveWins Marcos Jr United Vamos São Paulo OrgulhoBrunaxCatarina As Branquelas BRAZIL LOVES THE GIFTED Valencia Lukaku Calabres Montemor Cleber Felipe Conceição Renato Chaves #CarinhaDeAnjo301 #SdvPrefiroTwitterDoQue #CoraçãoIndomável001 #OTGala11 #VoltaLucasMoura #JornaldaCultura #PromoRuffles #UmCaminhoParaODestino100 #LançamentoDEV8 #HugoHenriqueNaTrilhaDoSucesso #Belaventura125 #MTVHITSNaLAJE #boanoitefox #EmPauta #GTAVIDADOSMEMES #TomHollandNoBrasil #SextaFeiraNaMansão Scarpa #SegundaDetremuraSDV #FanáticosFogão #NegoDoBorelNoTVZ AVRIL PLEASE COME BACK Dolores O'Riordan #AntisOverParty #FanaticosParana FCS SDV SO FCS Gabriel Novaes Tirei Você Emerson Sheik STREAM IDGAF Pogba Pablo Dyego Alan Ruiz Igor Gomes De Gea Sornoza LimanthaLoveWins Marcos Jr United Vamos São Paulo OrgulhoBrunaxCatarina As Branquelas BRAZIL LOVES THE GIFTED Valencia Lukaku Calabres Montemor Cleber Felipe Conceição Renato Chaves #CarinhaDeAnjo301 #SdvPrefiroTwitterDoQue #CoraçãoIndomável001 #OTGala11 #VoltaLucasMoura #JornaldaCultura #PromoRuffles #UmCaminhoParaODestino100 #LançamentoDEV8 #HugoHenriqueNaTrilhaDoSucesso #Belaventura125 #MTVHITSNaLAJE #boanoitefox #EmPauta #GTAVIDADOSMEMES #TomHollandNoBrasil #SextaFeiraNaMansão Scarpa #SegundaDetremuraSDV #FanáticosFogão #NegoDoBorelNoTVZ AVRIL PLEASE COME BACK Dolores O'Riordan #AntisOverParty #FanaticosParana FCS SDV SO FCS Gabriel Novaes Tirei Você Emerson Sheik STREAM IDGAF Pogba Pablo Dyego Alan Ruiz Igor Gomes De Gea Sornoza LimanthaLoveWins Marcos Jr United Vamos São Paulo OrgulhoBrunaxCatarina As Branquelas BRAZIL LOVES THE GIFTED Valencia Lukaku Calabres Montemor Cleber Felipe Conceição Renato Chaves #CarinhaDeAnjo301 #SdvPrefiroTwitterDoQue #CoraçãoIndomável001 #OTGala11 #VoltaLucasMoura #JornaldaCultura #PromoRuffles #UmCaminhoParaODestino100 #LançamentoDEV8 #HugoHenriqueNaTrilhaDoSucesso #Belaventura125 #MTVHITSNaLAJE #boanoitefox #EmPauta #GTAVIDADOSMEMES #TomHollandNoBrasil #SextaFeiraNaMansão Scarpa #SegundaDetremuraSDV #FanáticosFogão #NegoDoBorelNoTVZ AVRIL PLEASE COME BACK Dolores O'Riordan #AntisOverParty #FanaticosParana FCS SDV SO FCS Gabriel Novaes Tirei Você Emerson Sheik STREAM IDGAF Pogba Pablo Dyego Alan Ruiz Igor Gomes De Gea Sornoza LimanthaLoveWins Marcos Jr United Vamos São Paulo OrgulhoBrunaxCatarina As Branquelas BRAZIL LOVES THE GIFTED Valencia Lukaku Calabres Montemor Cleber Felipe Conceição Renato Chaves #CarinhaDeAnjo301 #SdvPrefiroTwitterDoQue #CoraçãoIndomável001 #OTGala11 #VoltaLucasMoura #JornaldaCultura #PromoRuffles #UmCaminhoParaODestino100 #LançamentoDEV8 #HugoHenriqueNaTrilhaDoSucesso #Belaventura125 #MTVHITSNaLAJE #boanoitefox #EmPauta #GTAVIDADOSMEMES #TomHollandNoBrasil #SextaFeiraNaMansão Scarpa #SegundaDetremuraSDV #FanáticosFogão #NegoDoBorelNoTVZ AVRIL PLEASE COME BACK Dolores O'Riordan #AntisOverParty #FanaticosParana FCS SDV SO FCS Gabriel Novaes Tirei Você Emerson Sheik STREAM IDGAF Pogba Pablo Dyego Alan Ruiz Igor Gomes De Gea Sornoza LimanthaLoveWins Marcos Jr United Vamos São Paulo OrgulhoBrunaxCatarina As Branquelas BRAZIL LOVES THE GIFTED Valencia Lukaku Calabres Montemor Cleber Felipe Conceição Renato Chaves #CarinhaDeAnjo301 #SdvPrefiroTwitterDoQue #CoraçãoIndomável001 #OTGala11 #VoltaLucasMoura #JornaldaCultura #PromoRuffles #UmCaminhoParaODestino100 #LançamentoDEV8 #HugoHenriqueNaTrilhaDoSucesso #Belaventura125 #MTVHITSNaLAJE #boanoitefox #EmPauta #GTAVIDADOSMEMES #TomHollandNoBrasil #SextaFeiraNaMansão Scarpa #SegundaDetremuraSDV #FanáticosFogão #NegoDoBorelNoTVZ AVRIL PLEASE COME BACK Dolores O'Riordan #AntisOverParty #FanaticosParana FCS SDV SO FCS Gabriel Novaes Tirei Você Emerson Sheik STREAM IDGAF Pogba Pablo Dyego Alan Ruiz Igor Gomes De Gea Sornoza LimanthaLoveWins Marcos Jr United Vamos São Paulo OrgulhoBrunaxCatarina As Branquelas BRAZIL LOVES THE GIFTED Valencia Lukaku Calabres Montemor Cleber Felipe Conceição Renato Chaves #CarinhaDeAnjo301 #SdvPrefiroTwitterDoQue #CoraçãoIndomável001 #OTGala11 #VoltaLucasMoura #JornaldaCultura #PromoRuffles #UmCaminhoParaODestino100 #LançamentoDEV8 #HugoHenriqueNaTrilhaDoSucesso #Belaventura125 #MTVHITSNaLAJE #boanoitefox #EmPauta #GTAVIDADOSMEMES #TomHollandNoBrasil #SextaFeiraNaMansão Scarpa #SegundaDetremuraSDV #FanáticosFogão #NegoDoBorelNoTVZ AVRIL PLEASE COME BACK Dolores O'Riordan #AntisOverParty #FanaticosParana FCS SDV SO FCS Gabriel Novaes Tirei Você Emerson Sheik STREAM IDGAF Pogba Pablo Dyego Alan Ruiz Igor Gomes De Gea Sornoza LimanthaLoveWins Marcos Jr United Vamos São Paulo OrgulhoBrunaxCatarina As Branquelas BRAZIL LOVES THE GIFTED Valencia Lukaku Calabres Montemor Cleber Felipe Conceição Renato Chaves #CarinhaDeAnjo301 #SdvPrefiroTwitterDoQue #CoraçãoIndomável001 #OTGala11 #VoltaLucasMoura #JornaldaCultura #PromoRuffles #UmCaminhoParaODestino100 #LançamentoDEV8 #HugoHenriqueNaTrilhaDoSucesso #Belaventura125 #MTVHITSNaLAJE #boanoitefox #EmPauta #GTAVIDADOSMEMES #TomHollandNoBrasil #SextaFeiraNaMansão Scarpa #SegundaDetremuraSDV #FanáticosFogão #NegoDoBorelNoTVZ AVRIL PLEASE COME BACK Dolores O'Riordan #AntisOverParty #FanaticosParana FCS SDV SO FCS Gabriel Novaes Tirei Você Emerson Sheik STREAM IDGAF Pogba Pablo Dyego Alan Ruiz Igor Gomes De Gea Sornoza LimanthaLoveWins Marcos Jr United Vamos São Paulo OrgulhoBrunaxCatarina As Branquelas BRAZIL LOVES THE GIFTED Valencia Lukaku Calabres Montemor Cleber Felipe Conceição Renato Chaves #CarinhaDeAnjo301 #SdvPrefiroTwitterDoQue #CoraçãoIndomável001 #OTGala11 #VoltaLucasMoura #JornaldaCultura #PromoRuffles #UmCaminhoParaODestino100 #LançamentoDEV8 #HugoHenriqueNaTrilhaDoSucesso #Belaventura125 #MTVHITSNaLAJE #boanoitefox #EmPauta #GTAVIDADOSMEMES #TomHollandNoBrasil #SextaFeiraNaMansão\n"
     ]
    }
   ],
   "source": [
    "print(tts)"
   ]
  },
  {
   "cell_type": "code",
   "execution_count": 174,
   "metadata": {},
   "outputs": [
    {
     "name": "stdout",
     "output_type": "stream",
     "text": [
      "[]\n"
     ]
    }
   ],
   "source": [
    "print(trends)\n"
   ]
  },
  {
   "cell_type": "code",
   "execution_count": 162,
   "metadata": {},
   "outputs": [
    {
     "name": "stdout",
     "output_type": "stream",
     "text": [
      "\n"
     ]
    }
   ],
   "source": [
    "x=''\n",
    "x.join(trends)\n",
    "print(x)"
   ]
  },
  {
   "cell_type": "code",
   "execution_count": 163,
   "metadata": {},
   "outputs": [
    {
     "ename": "AttributeError",
     "evalue": "'list' object has no attribute 'get_name'",
     "output_type": "error",
     "traceback": [
      "\u001b[0;31m---------------------------------------------------------------------------\u001b[0m",
      "\u001b[0;31mAttributeError\u001b[0m                            Traceback (most recent call last)",
      "\u001b[0;32m<ipython-input-163-f59bd45b5899>\u001b[0m in \u001b[0;36m<module>\u001b[0;34m()\u001b[0m\n\u001b[1;32m     75\u001b[0m \u001b[0;34m\u001b[0m\u001b[0m\n\u001b[1;32m     76\u001b[0m \u001b[0;32mfor\u001b[0m \u001b[0mi\u001b[0m \u001b[0;32min\u001b[0m \u001b[0mrange\u001b[0m\u001b[0;34m(\u001b[0m\u001b[0mcontador\u001b[0m\u001b[0;34m)\u001b[0m\u001b[0;34m:\u001b[0m\u001b[0;34m\u001b[0m\u001b[0m\n\u001b[0;32m---> 77\u001b[0;31m     \u001b[0mfolium\u001b[0m\u001b[0;34m.\u001b[0m\u001b[0mMarker\u001b[0m\u001b[0;34m(\u001b[0m\u001b[0mlista_de_coordenadas\u001b[0m\u001b[0;34m[\u001b[0m\u001b[0mi\u001b[0m\u001b[0;34m]\u001b[0m\u001b[0;34m,\u001b[0m \u001b[0mpopup\u001b[0m\u001b[0;34m=\u001b[0m \u001b[0mtrends\u001b[0m\u001b[0;34m)\u001b[0m\u001b[0;34m.\u001b[0m\u001b[0madd_to\u001b[0m\u001b[0;34m(\u001b[0m\u001b[0mmapa\u001b[0m\u001b[0;34m)\u001b[0m\u001b[0;31m##colocar a localização e o nome\u001b[0m\u001b[0;34m\u001b[0m\u001b[0m\n\u001b[0m\u001b[1;32m     78\u001b[0m \u001b[0;34m\u001b[0m\u001b[0m\n\u001b[1;32m     79\u001b[0m \u001b[0;31m#renderiza o mapa\u001b[0m\u001b[0;34m\u001b[0m\u001b[0;34m\u001b[0m\u001b[0m\n",
      "\u001b[0;32m/Library/Frameworks/Python.framework/Versions/3.6/lib/python3.6/site-packages/folium/map.py\u001b[0m in \u001b[0;36m__init__\u001b[0;34m(self, location, popup, icon)\u001b[0m\n\u001b[1;32m    651\u001b[0m             \u001b[0mself\u001b[0m\u001b[0;34m.\u001b[0m\u001b[0madd_child\u001b[0m\u001b[0;34m(\u001b[0m\u001b[0mPopup\u001b[0m\u001b[0;34m(\u001b[0m\u001b[0mpopup\u001b[0m\u001b[0;34m)\u001b[0m\u001b[0;34m)\u001b[0m\u001b[0;34m\u001b[0m\u001b[0m\n\u001b[1;32m    652\u001b[0m         \u001b[0;32melif\u001b[0m \u001b[0mpopup\u001b[0m \u001b[0;32mis\u001b[0m \u001b[0;32mnot\u001b[0m \u001b[0;32mNone\u001b[0m\u001b[0;34m:\u001b[0m\u001b[0;34m\u001b[0m\u001b[0m\n\u001b[0;32m--> 653\u001b[0;31m             \u001b[0mself\u001b[0m\u001b[0;34m.\u001b[0m\u001b[0madd_child\u001b[0m\u001b[0;34m(\u001b[0m\u001b[0mpopup\u001b[0m\u001b[0;34m)\u001b[0m\u001b[0;34m\u001b[0m\u001b[0m\n\u001b[0m\u001b[1;32m    654\u001b[0m \u001b[0;34m\u001b[0m\u001b[0m\n\u001b[1;32m    655\u001b[0m         self._template = Template(u\"\"\"\n",
      "\u001b[0;32m/Library/Frameworks/Python.framework/Versions/3.6/lib/python3.6/site-packages/branca/element.py\u001b[0m in \u001b[0;36madd_child\u001b[0;34m(self, child, name, index)\u001b[0m\n\u001b[1;32m     94\u001b[0m         \u001b[0;34m\"\"\"Add a child.\"\"\"\u001b[0m\u001b[0;34m\u001b[0m\u001b[0m\n\u001b[1;32m     95\u001b[0m         \u001b[0;32mif\u001b[0m \u001b[0mname\u001b[0m \u001b[0;32mis\u001b[0m \u001b[0;32mNone\u001b[0m\u001b[0;34m:\u001b[0m\u001b[0;34m\u001b[0m\u001b[0m\n\u001b[0;32m---> 96\u001b[0;31m             \u001b[0mname\u001b[0m \u001b[0;34m=\u001b[0m \u001b[0mchild\u001b[0m\u001b[0;34m.\u001b[0m\u001b[0mget_name\u001b[0m\u001b[0;34m(\u001b[0m\u001b[0;34m)\u001b[0m\u001b[0;34m\u001b[0m\u001b[0m\n\u001b[0m\u001b[1;32m     97\u001b[0m         \u001b[0;32mif\u001b[0m \u001b[0mindex\u001b[0m \u001b[0;32mis\u001b[0m \u001b[0;32mNone\u001b[0m\u001b[0;34m:\u001b[0m\u001b[0;34m\u001b[0m\u001b[0m\n\u001b[1;32m     98\u001b[0m             \u001b[0mself\u001b[0m\u001b[0;34m.\u001b[0m\u001b[0m_children\u001b[0m\u001b[0;34m[\u001b[0m\u001b[0mname\u001b[0m\u001b[0;34m]\u001b[0m \u001b[0;34m=\u001b[0m \u001b[0mchild\u001b[0m\u001b[0;34m\u001b[0m\u001b[0m\n",
      "\u001b[0;31mAttributeError\u001b[0m: 'list' object has no attribute 'get_name'"
     ]
    }
   ],
   "source": [
    "###########################################\n",
    "# Ferramenta de coleta de dados do Twitter\n",
    "# Mapeamento de Tweets de um usuario\n",
    "# janeiro de 2018\n",
    "# Curso do Knight Center\n",
    "# Tweepy para acessar o Twitter\n",
    "###########################################\n",
    "\n",
    "#importanto coisas importantes\n",
    "import tweepy\n",
    "from wordcloud import WordCloud\n",
    "import matplotlib.pyplot as plt\n",
    "import re\n",
    "\n",
    "#cria uma api do twitter\n",
    "consumer_key = 'DB1YMtOLCbMMEYAUHIVfYntpQ'\n",
    "consumer_secret = 'W5O7tjuyEuCfoZY6pNVVxP6llvbOQLrt0yuIn1BHtgDl2FhTYT'\n",
    "access_token = '351073723-qrRIeVyF5la8PHb0AXBPlKuTdCxYmPBkBYykDpWf'\n",
    "access_token_secret = 'Eux1KvZezDUQPKcaLwV89KCrXTxxjq2DqOHe4XwqaEZaZ'\n",
    "auth = tweepy.OAuthHandler(consumer_key, consumer_secret)\n",
    "auth.set_access_token(access_token, access_token_secret)\n",
    "api = tweepy.API(auth)\n",
    "\n",
    "#importa a bibliotaca que gera o mapa\n",
    "import folium\n",
    "\n",
    "lista_de_capitais = ['Manaus',\n",
    "                     'Salvador',\n",
    "                     'Fortaleza',\n",
    "                     'Brasília',\n",
    "                     'Goiânia',\n",
    "                     'São Luís',\n",
    "                     'Belo Horizonte',\n",
    "                     'Belém',\n",
    "                     'Curitiba',\n",
    "                     'Recife',\n",
    "                     'Rio de Janeiro',\n",
    "                     'Porto Alegre',\n",
    "                     'São Paulo']\n",
    "\n",
    "lista_de_coordenadas = [[ -3.07, -61.66],\n",
    "                        [-12.96, -38.51],\n",
    "                        [ -3.71, -38.54],\n",
    "                        [-15.83, -47.86],\n",
    "                        [-16.64, -49.31],\n",
    "                        [ -2.55, -44.30],\n",
    "                        [-18.10, -44.38],\n",
    "                        [ -5.53, -52.29],\n",
    "                        [-24.89, -51.55],\n",
    "                        [ -8.28, -35.07],\n",
    "                        [-22.84, -43.15],\n",
    "                        [-30.01, -51.22],\n",
    "                        [-23.55, -46.64]]\n",
    "\n",
    "lista_de_woeids = [\n",
    "                   455833,\n",
    "                   455826,\n",
    "                   455830,\n",
    "                   455819,\n",
    "                   455831,\n",
    "                   455834,\n",
    "                   455821,\n",
    "                   455820,\n",
    "                   455822,\n",
    "                   455824,\n",
    "                   455825,\n",
    "                   455823,\n",
    "                   455827]\n",
    "\n",
    "#cria o mapa       \n",
    "mapa = folium.Map(location=[-12, -49], zoom_start=4)\n",
    "contador = len(lista_de_capitais)\n",
    "\n",
    "trends = []\n",
    "\n",
    "for i in range(contador):    \n",
    "    folium.Marker(lista_de_coordenadas[i], popup= '#JornaldaCultura \\n #CoraçãoIndomável001'\\n #OTGala11'\\n '#VoltaLucasMoura' \\n'#HugoHenriqueNaTrilhaDoSucesso'\\n '#PromoRuffles' \\n'#LançamentoDEV8' \\n'#Belaventura125'\\n '#MTVHITSNaLAJE' \\n'#boanoitefox'\\n '#EmPauta' \\n'#GTAVIDADOSMEMES' \\n'#TomHollandNoBrasil'\\n'#SextaFeiraNaMansão' \\n'#ResenhaDos7').add_to(mapa)##colocar a localização e o nome\n",
    "\n",
    "#renderiza o mapa\n",
    "mapa\n",
    "#print('test2')"
   ]
  },
  {
   "cell_type": "code",
   "execution_count": 189,
   "metadata": {},
   "outputs": [
    {
     "data": {
      "text/html": [
       "<div style=\"width:100%;\"><div style=\"position:relative;width:100%;height:0;padding-bottom:60%;\"><iframe src=\"data:text/html;charset=utf-8;base64,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\" style=\"position:absolute;width:100%;height:100%;left:0;top:0;border:none !important;\" allowfullscreen webkitallowfullscreen mozallowfullscreen></iframe></div></div>"
      ],
      "text/plain": [
       "<folium.folium.Map at 0x10b5e84a8>"
      ]
     },
     "execution_count": 189,
     "metadata": {},
     "output_type": "execute_result"
    }
   ],
   "source": [
    "mapa = folium.Map(location=[-12, -49], zoom_start=4)\n",
    "\n",
    "text = []  \n",
    "#tts[i] = '|'.join(trends[:5])\n",
    "for i in range(contador):\n",
    "    z = ''\n",
    "    z.join(trends[:5])\n",
    "    text.append(z)\n",
    "\n",
    "#print(text)\n",
    "\n",
    "for i in range(contador):\n",
    "    folium.Marker(lista_de_coordenadas[i], popup=text[i]).add_to(mapa)##colocar a localização e o nome\n",
    "\n",
    "#renderiza o mapa\n",
    "mapa\n",
    "#print('test2')"
   ]
  },
  {
   "cell_type": "code",
   "execution_count": null,
   "metadata": {},
   "outputs": [],
   "source": []
  }
 ],
 "metadata": {
  "kernelspec": {
   "display_name": "Python 3",
   "language": "python",
   "name": "python3"
  },
  "language_info": {
   "codemirror_mode": {
    "name": "ipython",
    "version": 3
   },
   "file_extension": ".py",
   "mimetype": "text/x-python",
   "name": "python",
   "nbconvert_exporter": "python",
   "pygments_lexer": "ipython3",
   "version": "3.6.3"
  }
 },
 "nbformat": 4,
 "nbformat_minor": 2
}
