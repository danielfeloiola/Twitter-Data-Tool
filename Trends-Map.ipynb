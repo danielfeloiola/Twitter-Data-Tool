{
 "cells": [
  {
   "cell_type": "code",
   "execution_count": 206,
   "metadata": {},
   "outputs": [
    {
     "name": "stdout",
     "output_type": "stream",
     "text": [
      "\n",
      "['', '', '', '', '', '', '', '', '', '', '', '', '', '', '', '', '', '', '', '', '', '', '', '', '', '', '', '']\n",
      "\n",
      "['', '', '', '', '', '', '', '', '', '', '', '', '', '', '', '', '', '', '', '', '', '', '', '', '', '', '', '', '']\n",
      "\n",
      "['', '', '', '', '', '', '', '', '', '', '', '', '', '', '', '', '', '', '', '', '', '', '', '', '', '', '', '', '', '']\n",
      "\n",
      "['', '', '', '', '', '', '', '', '', '', '', '', '', '', '', '', '', '', '', '', '', '', '', '', '', '', '', '', '', '', '']\n",
      "\n",
      "['', '', '', '', '', '', '', '', '', '', '', '', '', '', '', '', '', '', '', '', '', '', '', '', '', '', '', '', '', '', '', '']\n",
      "\n",
      "['', '', '', '', '', '', '', '', '', '', '', '', '', '', '', '', '', '', '', '', '', '', '', '', '', '', '', '', '', '', '', '', '']\n",
      "\n",
      "['', '', '', '', '', '', '', '', '', '', '', '', '', '', '', '', '', '', '', '', '', '', '', '', '', '', '', '', '', '', '', '', '', '']\n",
      "\n",
      "['', '', '', '', '', '', '', '', '', '', '', '', '', '', '', '', '', '', '', '', '', '', '', '', '', '', '', '', '', '', '', '', '', '', '']\n",
      "\n",
      "['', '', '', '', '', '', '', '', '', '', '', '', '', '', '', '', '', '', '', '', '', '', '', '', '', '', '', '', '', '', '', '', '', '', '', '']\n",
      "\n",
      "['', '', '', '', '', '', '', '', '', '', '', '', '', '', '', '', '', '', '', '', '', '', '', '', '', '', '', '', '', '', '', '', '', '', '', '', '']\n",
      "\n",
      "['', '', '', '', '', '', '', '', '', '', '', '', '', '', '', '', '', '', '', '', '', '', '', '', '', '', '', '', '', '', '', '', '', '', '', '', '', '']\n",
      "\n",
      "['', '', '', '', '', '', '', '', '', '', '', '', '', '', '', '', '', '', '', '', '', '', '', '', '', '', '', '', '', '', '', '', '', '', '', '', '', '', '']\n",
      "\n",
      "['', '', '', '', '', '', '', '', '', '', '', '', '', '', '', '', '', '', '', '', '', '', '', '', '', '', '', '', '', '', '', '', '', '', '', '', '', '', '', '']\n"
     ]
    },
    {
     "data": {
      "text/html": [
       "<div style=\"width:100%;\"><div style=\"position:relative;width:100%;height:0;padding-bottom:60%;\"><iframe src=\"data:text/html;charset=utf-8;base64,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\" style=\"position:absolute;width:100%;height:100%;left:0;top:0;border:none !important;\" allowfullscreen webkitallowfullscreen mozallowfullscreen></iframe></div></div>"
      ],
      "text/plain": [
       "<folium.folium.Map at 0x10d040cc0>"
      ]
     },
     "execution_count": 206,
     "metadata": {},
     "output_type": "execute_result"
    }
   ],
   "source": [
    "###########################################\n",
    "# Ferramenta de coleta de dados do Twitter\n",
    "# Mapeamento de Tweets de um usuario\n",
    "# janeiro de 2018\n",
    "# Curso do Knight Center\n",
    "# Tweepy para acessar o Twitter\n",
    "###########################################\n",
    "\n",
    "#importanto coisas importantes\n",
    "import tweepy\n",
    "from wordcloud import WordCloud\n",
    "import matplotlib.pyplot as plt\n",
    "import re\n",
    "\n",
    "#cria uma api do twitter\n",
    "consumer_key = ''\n",
    "consumer_secret = ''\n",
    "access_token = ''\n",
    "access_token_secret = ''\n",
    "auth = tweepy.OAuthHandler(consumer_key, consumer_secret)\n",
    "auth.set_access_token(access_token, access_token_secret)\n",
    "api = tweepy.API(auth)\n",
    "\n",
    "#importa a bibliotaca que gera o mapa\n",
    "import folium\n",
    "\n",
    "lista_de_capitais = ['Manaus',\n",
    "                     'Salvador',\n",
    "                     'Fortaleza',\n",
    "                     'Brasília',\n",
    "                     'Goiânia',\n",
    "                     'São Luís',\n",
    "                     'Belo Horizonte',\n",
    "                     'Belém',\n",
    "                     'Curitiba',\n",
    "                     'Recife',\n",
    "                     'Rio de Janeiro',\n",
    "                     'Porto Alegre',\n",
    "                     'São Paulo']\n",
    "\n",
    "lista_de_coordenadas = [[ -3.07, -61.66],\n",
    "                        [-12.96, -38.51],\n",
    "                        [ -3.71, -38.54],\n",
    "                        [-15.83, -47.86],\n",
    "                        [-16.64, -49.31],\n",
    "                        [ -2.55, -44.30],\n",
    "                        [-18.10, -44.38],\n",
    "                        [ -5.53, -52.29],\n",
    "                        [-24.89, -51.55],\n",
    "                        [ -8.28, -35.07],\n",
    "                        [-22.84, -43.15],\n",
    "                        [-30.01, -51.22],\n",
    "                        [-23.55, -46.64]]\n",
    "\n",
    "lista_de_woeids = [\n",
    "                   455833,\n",
    "                   455826,\n",
    "                   455830,\n",
    "                   455819,\n",
    "                   455831,\n",
    "                   455834,\n",
    "                   455821,\n",
    "                   455820,\n",
    "                   455822,\n",
    "                   455824,\n",
    "                   455825,\n",
    "                   455823,\n",
    "                   455827]\n",
    "\n",
    "#cria o mapa       \n",
    "mapa = folium.Map(location=[-12, -49], zoom_start=4)\n",
    "contador = len(lista_de_capitais)\n",
    "\n",
    "for i in range(contador):\n",
    "\n",
    "    trends = []\n",
    "\n",
    "    #pede a timeline\n",
    "    status_list = api.trends_place(lista_de_woeids[i])\n",
    "    trending = status_list[0]\n",
    "    trends_de_verdade = trending['trends']\n",
    "    x = len(trends_de_verdade)\n",
    "    for num in range(x):\n",
    "        trends.append(trends_de_verdade[num]['name'])\n",
    "        \n",
    "    #tts[i] = '|'.join(trends[:5])\n",
    "    #text = ' '.join(trends[:1])\n",
    "    \n",
    "    \n",
    "###com essa parte aqui ainda nao foi testado    \n",
    "    \n",
    "#tts[i] = '|'.join(trends[:5])\n",
    "\n",
    "\n",
    "#quando estava aqui funcionava mas sem o texto\n",
    "for i in range(contador):\n",
    "    z = ''\n",
    "    z.join(trends[:5])\n",
    "    #print(trends)\n",
    "    print(z)\n",
    "    text.append(z)\n",
    "    print(text)\n",
    "\n",
    "for i in range(contador):\n",
    "    folium.Marker(lista_de_coordenadas[i], popup=text[i]).add_to(mapa)##colocar a localização e o nome\n",
    "\n",
    "\n",
    "#renderiza o mapa\n",
    "mapa\n",
    "#print('test2')"
   ]
  },
  {
   "cell_type": "code",
   "execution_count": 201,
   "metadata": {},
   "outputs": [
    {
     "data": {
      "text/html": [
       "<div style=\"width:100%;\"><div style=\"position:relative;width:100%;height:0;padding-bottom:60%;\"><iframe src=\"data:text/html;charset=utf-8;base64,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\" style=\"position:absolute;width:100%;height:100%;left:0;top:0;border:none !important;\" allowfullscreen webkitallowfullscreen mozallowfullscreen></iframe></div></div>"
      ],
      "text/plain": [
       "<folium.folium.Map at 0x10c795128>"
      ]
     },
     "execution_count": 201,
     "metadata": {},
     "output_type": "execute_result"
    }
   ],
   "source": [
    "mapa = folium.Map(location=[-12, -49], zoom_start=4)\n",
    "\n",
    "x = len(trends_de_verdade)\n",
    "5\n",
    "for num in range(x):\n",
    "    trends.append(trends_de_verdade[num]['name'])\n",
    "\n",
    "tts = ' '.join(trends[:1])\n",
    "\n",
    "\n",
    "#print(i)\n",
    "folium.Marker(lista_de_coordenadas[i], popup=tts).add_to(mapa)##colocar a localização e o nome\n",
    "\n",
    "#renderiza o mapa\n",
    "mapa\n",
    "#print('test2')"
   ]
  },
  {
   "cell_type": "code",
   "execution_count": 202,
   "metadata": {},
   "outputs": [
    {
     "data": {
      "text/plain": [
       "str"
      ]
     },
     "execution_count": 202,
     "metadata": {},
     "output_type": "execute_result"
    }
   ],
   "source": [
    "type(tts)"
   ]
  },
  {
   "cell_type": "code",
   "execution_count": 119,
   "metadata": {},
   "outputs": [
    {
     "name": "stdout",
     "output_type": "stream",
     "text": [
      "Scarpa #SegundaDetremuraSDV #FanáticosFogão #NegoDoBorelNoTVZ AVRIL PLEASE COME BACK Dolores O'Riordan #AntisOverParty #FanaticosParana FCS SDV SO FCS Gabriel Novaes Tirei Você Emerson Sheik STREAM IDGAF Pogba Pablo Dyego Alan Ruiz Igor Gomes De Gea Sornoza LimanthaLoveWins Marcos Jr United Vamos São Paulo OrgulhoBrunaxCatarina As Branquelas BRAZIL LOVES THE GIFTED Valencia Lukaku Calabres Montemor Cleber Felipe Conceição Renato Chaves #CarinhaDeAnjo301 #SdvPrefiroTwitterDoQue #CoraçãoIndomável001 #OTGala11 #VoltaLucasMoura #JornaldaCultura #PromoRuffles #UmCaminhoParaODestino100 #LançamentoDEV8 #HugoHenriqueNaTrilhaDoSucesso #Belaventura125 #MTVHITSNaLAJE #boanoitefox #EmPauta #GTAVIDADOSMEMES #TomHollandNoBrasil #SextaFeiraNaMansão Scarpa #SegundaDetremuraSDV #FanáticosFogão #NegoDoBorelNoTVZ AVRIL PLEASE COME BACK Dolores O'Riordan #AntisOverParty #FanaticosParana FCS SDV SO FCS Gabriel Novaes Tirei Você Emerson Sheik STREAM IDGAF Pogba Pablo Dyego Alan Ruiz Igor Gomes De Gea Sornoza LimanthaLoveWins Marcos Jr United Vamos São Paulo OrgulhoBrunaxCatarina As Branquelas BRAZIL LOVES THE GIFTED Valencia Lukaku Calabres Montemor Cleber Felipe Conceição Renato Chaves #CarinhaDeAnjo301 #SdvPrefiroTwitterDoQue #CoraçãoIndomável001 #OTGala11 #VoltaLucasMoura #JornaldaCultura #PromoRuffles #UmCaminhoParaODestino100 #LançamentoDEV8 #HugoHenriqueNaTrilhaDoSucesso #Belaventura125 #MTVHITSNaLAJE #boanoitefox #EmPauta #GTAVIDADOSMEMES #TomHollandNoBrasil #SextaFeiraNaMansão Scarpa #SegundaDetremuraSDV #FanáticosFogão #NegoDoBorelNoTVZ AVRIL PLEASE COME BACK Dolores O'Riordan #AntisOverParty #FanaticosParana FCS SDV SO FCS Gabriel Novaes Tirei Você Emerson Sheik STREAM IDGAF Pogba Pablo Dyego Alan Ruiz Igor Gomes De Gea Sornoza LimanthaLoveWins Marcos Jr United Vamos São Paulo OrgulhoBrunaxCatarina As Branquelas BRAZIL LOVES THE GIFTED Valencia Lukaku Calabres Montemor Cleber Felipe Conceição Renato Chaves #CarinhaDeAnjo301 #SdvPrefiroTwitterDoQue #CoraçãoIndomável001 #OTGala11 #VoltaLucasMoura #JornaldaCultura #PromoRuffles #UmCaminhoParaODestino100 #LançamentoDEV8 #HugoHenriqueNaTrilhaDoSucesso #Belaventura125 #MTVHITSNaLAJE #boanoitefox #EmPauta #GTAVIDADOSMEMES #TomHollandNoBrasil #SextaFeiraNaMansão Scarpa #SegundaDetremuraSDV #FanáticosFogão #NegoDoBorelNoTVZ AVRIL PLEASE COME BACK Dolores O'Riordan #AntisOverParty #FanaticosParana FCS SDV SO FCS Gabriel Novaes Tirei Você Emerson Sheik STREAM IDGAF Pogba Pablo Dyego Alan Ruiz Igor Gomes De Gea Sornoza LimanthaLoveWins Marcos Jr United Vamos São Paulo OrgulhoBrunaxCatarina As Branquelas BRAZIL LOVES THE GIFTED Valencia Lukaku Calabres Montemor Cleber Felipe Conceição Renato Chaves #CarinhaDeAnjo301 #SdvPrefiroTwitterDoQue #CoraçãoIndomável001 #OTGala11 #VoltaLucasMoura #JornaldaCultura #PromoRuffles #UmCaminhoParaODestino100 #LançamentoDEV8 #HugoHenriqueNaTrilhaDoSucesso #Belaventura125 #MTVHITSNaLAJE #boanoitefox #EmPauta #GTAVIDADOSMEMES #TomHollandNoBrasil #SextaFeiraNaMansão Scarpa #SegundaDetremuraSDV #FanáticosFogão #NegoDoBorelNoTVZ AVRIL PLEASE COME BACK Dolores O'Riordan #AntisOverParty #FanaticosParana FCS SDV SO FCS Gabriel Novaes Tirei Você Emerson Sheik STREAM IDGAF Pogba Pablo Dyego Alan Ruiz Igor Gomes De Gea Sornoza LimanthaLoveWins Marcos Jr United Vamos São Paulo OrgulhoBrunaxCatarina As Branquelas BRAZIL LOVES THE GIFTED Valencia Lukaku Calabres Montemor Cleber Felipe Conceição Renato Chaves #CarinhaDeAnjo301 #SdvPrefiroTwitterDoQue #CoraçãoIndomável001 #OTGala11 #VoltaLucasMoura #JornaldaCultura #PromoRuffles #UmCaminhoParaODestino100 #LançamentoDEV8 #HugoHenriqueNaTrilhaDoSucesso #Belaventura125 #MTVHITSNaLAJE #boanoitefox #EmPauta #GTAVIDADOSMEMES #TomHollandNoBrasil #SextaFeiraNaMansão Scarpa #SegundaDetremuraSDV #FanáticosFogão #NegoDoBorelNoTVZ AVRIL PLEASE COME BACK Dolores O'Riordan #AntisOverParty #FanaticosParana FCS SDV SO FCS Gabriel Novaes Tirei Você Emerson Sheik STREAM IDGAF Pogba Pablo Dyego Alan Ruiz Igor Gomes De Gea Sornoza LimanthaLoveWins Marcos Jr United Vamos São Paulo OrgulhoBrunaxCatarina As Branquelas BRAZIL LOVES THE GIFTED Valencia Lukaku Calabres Montemor Cleber Felipe Conceição Renato Chaves #CarinhaDeAnjo301 #SdvPrefiroTwitterDoQue #CoraçãoIndomável001 #OTGala11 #VoltaLucasMoura #JornaldaCultura #PromoRuffles #UmCaminhoParaODestino100 #LançamentoDEV8 #HugoHenriqueNaTrilhaDoSucesso #Belaventura125 #MTVHITSNaLAJE #boanoitefox #EmPauta #GTAVIDADOSMEMES #TomHollandNoBrasil #SextaFeiraNaMansão Scarpa #SegundaDetremuraSDV #FanáticosFogão #NegoDoBorelNoTVZ AVRIL PLEASE COME BACK Dolores O'Riordan #AntisOverParty #FanaticosParana FCS SDV SO FCS Gabriel Novaes Tirei Você Emerson Sheik STREAM IDGAF Pogba Pablo Dyego Alan Ruiz Igor Gomes De Gea Sornoza LimanthaLoveWins Marcos Jr United Vamos São Paulo OrgulhoBrunaxCatarina As Branquelas BRAZIL LOVES THE GIFTED Valencia Lukaku Calabres Montemor Cleber Felipe Conceição Renato Chaves #CarinhaDeAnjo301 #SdvPrefiroTwitterDoQue #CoraçãoIndomável001 #OTGala11 #VoltaLucasMoura #JornaldaCultura #PromoRuffles #UmCaminhoParaODestino100 #LançamentoDEV8 #HugoHenriqueNaTrilhaDoSucesso #Belaventura125 #MTVHITSNaLAJE #boanoitefox #EmPauta #GTAVIDADOSMEMES #TomHollandNoBrasil #SextaFeiraNaMansão Scarpa #SegundaDetremuraSDV #FanáticosFogão #NegoDoBorelNoTVZ AVRIL PLEASE COME BACK Dolores O'Riordan #AntisOverParty #FanaticosParana FCS SDV SO FCS Gabriel Novaes Tirei Você Emerson Sheik STREAM IDGAF Pogba Pablo Dyego Alan Ruiz Igor Gomes De Gea Sornoza LimanthaLoveWins Marcos Jr United Vamos São Paulo OrgulhoBrunaxCatarina As Branquelas BRAZIL LOVES THE GIFTED Valencia Lukaku Calabres Montemor Cleber Felipe Conceição Renato Chaves #CarinhaDeAnjo301 #SdvPrefiroTwitterDoQue #CoraçãoIndomável001 #OTGala11 #VoltaLucasMoura #JornaldaCultura #PromoRuffles #UmCaminhoParaODestino100 #LançamentoDEV8 #HugoHenriqueNaTrilhaDoSucesso #Belaventura125 #MTVHITSNaLAJE #boanoitefox #EmPauta #GTAVIDADOSMEMES #TomHollandNoBrasil #SextaFeiraNaMansão Scarpa #SegundaDetremuraSDV #FanáticosFogão #NegoDoBorelNoTVZ AVRIL PLEASE COME BACK Dolores O'Riordan #AntisOverParty #FanaticosParana FCS SDV SO FCS Gabriel Novaes Tirei Você Emerson Sheik STREAM IDGAF Pogba Pablo Dyego Alan Ruiz Igor Gomes De Gea Sornoza LimanthaLoveWins Marcos Jr United Vamos São Paulo OrgulhoBrunaxCatarina As Branquelas BRAZIL LOVES THE GIFTED Valencia Lukaku Calabres Montemor Cleber Felipe Conceição Renato Chaves #CarinhaDeAnjo301 #SdvPrefiroTwitterDoQue #CoraçãoIndomável001 #OTGala11 #VoltaLucasMoura #JornaldaCultura #PromoRuffles #UmCaminhoParaODestino100 #LançamentoDEV8 #HugoHenriqueNaTrilhaDoSucesso #Belaventura125 #MTVHITSNaLAJE #boanoitefox #EmPauta #GTAVIDADOSMEMES #TomHollandNoBrasil #SextaFeiraNaMansão Scarpa #SegundaDetremuraSDV #FanáticosFogão #NegoDoBorelNoTVZ AVRIL PLEASE COME BACK Dolores O'Riordan #AntisOverParty #FanaticosParana FCS SDV SO FCS Gabriel Novaes Tirei Você Emerson Sheik STREAM IDGAF Pogba Pablo Dyego Alan Ruiz Igor Gomes De Gea Sornoza LimanthaLoveWins Marcos Jr United Vamos São Paulo OrgulhoBrunaxCatarina As Branquelas BRAZIL LOVES THE GIFTED Valencia Lukaku Calabres Montemor Cleber Felipe Conceição Renato Chaves #CarinhaDeAnjo301 #SdvPrefiroTwitterDoQue #CoraçãoIndomável001 #OTGala11 #VoltaLucasMoura #JornaldaCultura #PromoRuffles #UmCaminhoParaODestino100 #LançamentoDEV8 #HugoHenriqueNaTrilhaDoSucesso #Belaventura125 #MTVHITSNaLAJE #boanoitefox #EmPauta #GTAVIDADOSMEMES #TomHollandNoBrasil #SextaFeiraNaMansão Scarpa #SegundaDetremuraSDV #FanáticosFogão #NegoDoBorelNoTVZ AVRIL PLEASE COME BACK Dolores O'Riordan #AntisOverParty #FanaticosParana FCS SDV SO FCS Gabriel Novaes Tirei Você Emerson Sheik STREAM IDGAF Pogba Pablo Dyego Alan Ruiz Igor Gomes De Gea Sornoza LimanthaLoveWins Marcos Jr United Vamos São Paulo OrgulhoBrunaxCatarina As Branquelas BRAZIL LOVES THE GIFTED Valencia Lukaku Calabres Montemor Cleber Felipe Conceição Renato Chaves #CarinhaDeAnjo301 #SdvPrefiroTwitterDoQue #CoraçãoIndomável001 #OTGala11 #VoltaLucasMoura #JornaldaCultura #PromoRuffles #UmCaminhoParaODestino100 #LançamentoDEV8 #HugoHenriqueNaTrilhaDoSucesso #Belaventura125 #MTVHITSNaLAJE #boanoitefox #EmPauta #GTAVIDADOSMEMES #TomHollandNoBrasil #SextaFeiraNaMansão\n"
     ]
    }
   ],
   "source": [
    "print(tts)"
   ]
  },
  {
   "cell_type": "code",
   "execution_count": 174,
   "metadata": {},
   "outputs": [
    {
     "name": "stdout",
     "output_type": "stream",
     "text": [
      "[]\n"
     ]
    }
   ],
   "source": [
    "print(trends)\n"
   ]
  },
  {
   "cell_type": "code",
   "execution_count": 162,
   "metadata": {},
   "outputs": [
    {
     "name": "stdout",
     "output_type": "stream",
     "text": [
      "\n"
     ]
    }
   ],
   "source": [
    "x=''\n",
    "x.join(trends)\n",
    "print(x)"
   ]
  },
  {
   "cell_type": "code",
   "execution_count": 163,
   "metadata": {},
   "outputs": [
    {
     "ename": "AttributeError",
     "evalue": "'list' object has no attribute 'get_name'",
     "output_type": "error",
     "traceback": [
      "\u001b[0;31m---------------------------------------------------------------------------\u001b[0m",
      "\u001b[0;31mAttributeError\u001b[0m                            Traceback (most recent call last)",
      "\u001b[0;32m<ipython-input-163-f59bd45b5899>\u001b[0m in \u001b[0;36m<module>\u001b[0;34m()\u001b[0m\n\u001b[1;32m     75\u001b[0m \u001b[0;34m\u001b[0m\u001b[0m\n\u001b[1;32m     76\u001b[0m \u001b[0;32mfor\u001b[0m \u001b[0mi\u001b[0m \u001b[0;32min\u001b[0m \u001b[0mrange\u001b[0m\u001b[0;34m(\u001b[0m\u001b[0mcontador\u001b[0m\u001b[0;34m)\u001b[0m\u001b[0;34m:\u001b[0m\u001b[0;34m\u001b[0m\u001b[0m\n\u001b[0;32m---> 77\u001b[0;31m     \u001b[0mfolium\u001b[0m\u001b[0;34m.\u001b[0m\u001b[0mMarker\u001b[0m\u001b[0;34m(\u001b[0m\u001b[0mlista_de_coordenadas\u001b[0m\u001b[0;34m[\u001b[0m\u001b[0mi\u001b[0m\u001b[0;34m]\u001b[0m\u001b[0;34m,\u001b[0m \u001b[0mpopup\u001b[0m\u001b[0;34m=\u001b[0m \u001b[0mtrends\u001b[0m\u001b[0;34m)\u001b[0m\u001b[0;34m.\u001b[0m\u001b[0madd_to\u001b[0m\u001b[0;34m(\u001b[0m\u001b[0mmapa\u001b[0m\u001b[0;34m)\u001b[0m\u001b[0;31m##colocar a localização e o nome\u001b[0m\u001b[0;34m\u001b[0m\u001b[0m\n\u001b[0m\u001b[1;32m     78\u001b[0m \u001b[0;34m\u001b[0m\u001b[0m\n\u001b[1;32m     79\u001b[0m \u001b[0;31m#renderiza o mapa\u001b[0m\u001b[0;34m\u001b[0m\u001b[0;34m\u001b[0m\u001b[0m\n",
      "\u001b[0;32m/Library/Frameworks/Python.framework/Versions/3.6/lib/python3.6/site-packages/folium/map.py\u001b[0m in \u001b[0;36m__init__\u001b[0;34m(self, location, popup, icon)\u001b[0m\n\u001b[1;32m    651\u001b[0m             \u001b[0mself\u001b[0m\u001b[0;34m.\u001b[0m\u001b[0madd_child\u001b[0m\u001b[0;34m(\u001b[0m\u001b[0mPopup\u001b[0m\u001b[0;34m(\u001b[0m\u001b[0mpopup\u001b[0m\u001b[0;34m)\u001b[0m\u001b[0;34m)\u001b[0m\u001b[0;34m\u001b[0m\u001b[0m\n\u001b[1;32m    652\u001b[0m         \u001b[0;32melif\u001b[0m \u001b[0mpopup\u001b[0m \u001b[0;32mis\u001b[0m \u001b[0;32mnot\u001b[0m \u001b[0;32mNone\u001b[0m\u001b[0;34m:\u001b[0m\u001b[0;34m\u001b[0m\u001b[0m\n\u001b[0;32m--> 653\u001b[0;31m             \u001b[0mself\u001b[0m\u001b[0;34m.\u001b[0m\u001b[0madd_child\u001b[0m\u001b[0;34m(\u001b[0m\u001b[0mpopup\u001b[0m\u001b[0;34m)\u001b[0m\u001b[0;34m\u001b[0m\u001b[0m\n\u001b[0m\u001b[1;32m    654\u001b[0m \u001b[0;34m\u001b[0m\u001b[0m\n\u001b[1;32m    655\u001b[0m         self._template = Template(u\"\"\"\n",
      "\u001b[0;32m/Library/Frameworks/Python.framework/Versions/3.6/lib/python3.6/site-packages/branca/element.py\u001b[0m in \u001b[0;36madd_child\u001b[0;34m(self, child, name, index)\u001b[0m\n\u001b[1;32m     94\u001b[0m         \u001b[0;34m\"\"\"Add a child.\"\"\"\u001b[0m\u001b[0;34m\u001b[0m\u001b[0m\n\u001b[1;32m     95\u001b[0m         \u001b[0;32mif\u001b[0m \u001b[0mname\u001b[0m \u001b[0;32mis\u001b[0m \u001b[0;32mNone\u001b[0m\u001b[0;34m:\u001b[0m\u001b[0;34m\u001b[0m\u001b[0m\n\u001b[0;32m---> 96\u001b[0;31m             \u001b[0mname\u001b[0m \u001b[0;34m=\u001b[0m \u001b[0mchild\u001b[0m\u001b[0;34m.\u001b[0m\u001b[0mget_name\u001b[0m\u001b[0;34m(\u001b[0m\u001b[0;34m)\u001b[0m\u001b[0;34m\u001b[0m\u001b[0m\n\u001b[0m\u001b[1;32m     97\u001b[0m         \u001b[0;32mif\u001b[0m \u001b[0mindex\u001b[0m \u001b[0;32mis\u001b[0m \u001b[0;32mNone\u001b[0m\u001b[0;34m:\u001b[0m\u001b[0;34m\u001b[0m\u001b[0m\n\u001b[1;32m     98\u001b[0m             \u001b[0mself\u001b[0m\u001b[0;34m.\u001b[0m\u001b[0m_children\u001b[0m\u001b[0;34m[\u001b[0m\u001b[0mname\u001b[0m\u001b[0;34m]\u001b[0m \u001b[0;34m=\u001b[0m \u001b[0mchild\u001b[0m\u001b[0;34m\u001b[0m\u001b[0m\n",
      "\u001b[0;31mAttributeError\u001b[0m: 'list' object has no attribute 'get_name'"
     ]
    }
   ],
   "source": [
    "###########################################\n",
    "# Ferramenta de coleta de dados do Twitter\n",
    "# Mapeamento de Tweets de um usuario\n",
    "# janeiro de 2018\n",
    "# Curso do Knight Center\n",
    "# Tweepy para acessar o Twitter\n",
    "###########################################\n",
    "\n",
    "#importanto coisas importantes\n",
    "import tweepy\n",
    "from wordcloud import WordCloud\n",
    "import matplotlib.pyplot as plt\n",
    "import re\n",
    "\n",
    "#cria uma api do twitter\n",
    "consumer_key = 'DB1YMtOLCbMMEYAUHIVfYntpQ'\n",
    "consumer_secret = 'W5O7tjuyEuCfoZY6pNVVxP6llvbOQLrt0yuIn1BHtgDl2FhTYT'\n",
    "access_token = '351073723-qrRIeVyF5la8PHb0AXBPlKuTdCxYmPBkBYykDpWf'\n",
    "access_token_secret = 'Eux1KvZezDUQPKcaLwV89KCrXTxxjq2DqOHe4XwqaEZaZ'\n",
    "auth = tweepy.OAuthHandler(consumer_key, consumer_secret)\n",
    "auth.set_access_token(access_token, access_token_secret)\n",
    "api = tweepy.API(auth)\n",
    "\n",
    "#importa a bibliotaca que gera o mapa\n",
    "import folium\n",
    "\n",
    "lista_de_capitais = ['Manaus',\n",
    "                     'Salvador',\n",
    "                     'Fortaleza',\n",
    "                     'Brasília',\n",
    "                     'Goiânia',\n",
    "                     'São Luís',\n",
    "                     'Belo Horizonte',\n",
    "                     'Belém',\n",
    "                     'Curitiba',\n",
    "                     'Recife',\n",
    "                     'Rio de Janeiro',\n",
    "                     'Porto Alegre',\n",
    "                     'São Paulo']\n",
    "\n",
    "lista_de_coordenadas = [[ -3.07, -61.66],\n",
    "                        [-12.96, -38.51],\n",
    "                        [ -3.71, -38.54],\n",
    "                        [-15.83, -47.86],\n",
    "                        [-16.64, -49.31],\n",
    "                        [ -2.55, -44.30],\n",
    "                        [-18.10, -44.38],\n",
    "                        [ -5.53, -52.29],\n",
    "                        [-24.89, -51.55],\n",
    "                        [ -8.28, -35.07],\n",
    "                        [-22.84, -43.15],\n",
    "                        [-30.01, -51.22],\n",
    "                        [-23.55, -46.64]]\n",
    "\n",
    "lista_de_woeids = [\n",
    "                   455833,\n",
    "                   455826,\n",
    "                   455830,\n",
    "                   455819,\n",
    "                   455831,\n",
    "                   455834,\n",
    "                   455821,\n",
    "                   455820,\n",
    "                   455822,\n",
    "                   455824,\n",
    "                   455825,\n",
    "                   455823,\n",
    "                   455827]\n",
    "\n",
    "#cria o mapa       \n",
    "mapa = folium.Map(location=[-12, -49], zoom_start=4)\n",
    "contador = len(lista_de_capitais)\n",
    "\n",
    "trends = []\n",
    "\n",
    "for i in range(contador):    \n",
    "    folium.Marker(lista_de_coordenadas[i], popup= '#JornaldaCultura \\n #CoraçãoIndomável001'\\n #OTGala11'\\n '#VoltaLucasMoura' \\n'#HugoHenriqueNaTrilhaDoSucesso'\\n '#PromoRuffles' \\n'#LançamentoDEV8' \\n'#Belaventura125'\\n '#MTVHITSNaLAJE' \\n'#boanoitefox'\\n '#EmPauta' \\n'#GTAVIDADOSMEMES' \\n'#TomHollandNoBrasil'\\n'#SextaFeiraNaMansão' \\n'#ResenhaDos7').add_to(mapa)##colocar a localização e o nome\n",
    "\n",
    "#renderiza o mapa\n",
    "mapa\n",
    "#print('test2')"
   ]
  },
  {
   "cell_type": "code",
   "execution_count": 189,
   "metadata": {},
   "outputs": [
    {
     "data": {
      "text/html": [
       "<div style=\"width:100%;\"><div style=\"position:relative;width:100%;height:0;padding-bottom:60%;\"><iframe src=\"data:text/html;charset=utf-8;base64,PCFET0NUWVBFIGh0bWw+CjxoZWFkPiAgICAKICAgIDxtZXRhIGh0dHAtZXF1aXY9ImNvbnRlbnQtdHlwZSIgY29udGVudD0idGV4dC9odG1sOyBjaGFyc2V0PVVURi04IiAvPgogICAgPHNjcmlwdD5MX1BSRUZFUl9DQU5WQVMgPSBmYWxzZTsgTF9OT19UT1VDSCA9IGZhbHNlOyBMX0RJU0FCTEVfM0QgPSBmYWxzZTs8L3NjcmlwdD4KICAgIDxzY3JpcHQgc3JjPSJodHRwczovL2Nkbi5qc2RlbGl2ci5uZXQvbnBtL2xlYWZsZXRAMS4yLjAvZGlzdC9sZWFmbGV0LmpzIj48L3NjcmlwdD4KICAgIDxzY3JpcHQgc3JjPSJodHRwczovL2FqYXguZ29vZ2xlYXBpcy5jb20vYWpheC9saWJzL2pxdWVyeS8xLjExLjEvanF1ZXJ5Lm1pbi5qcyI+PC9zY3JpcHQ+CiAgICA8c2NyaXB0IHNyYz0iaHR0cHM6Ly9tYXhjZG4uYm9vdHN0cmFwY2RuLmNvbS9ib290c3RyYXAvMy4yLjAvanMvYm9vdHN0cmFwLm1pbi5qcyI+PC9zY3JpcHQ+CiAgICA8c2NyaXB0IHNyYz0iaHR0cHM6Ly9jZG5qcy5jbG91ZGZsYXJlLmNvbS9hamF4L2xpYnMvTGVhZmxldC5hd2Vzb21lLW1hcmtlcnMvMi4wLjIvbGVhZmxldC5hd2Vzb21lLW1hcmtlcnMuanMiPjwvc2NyaXB0PgogICAgPGxpbmsgcmVsPSJzdHlsZXNoZWV0IiBocmVmPSJodHRwczovL2Nkbi5qc2RlbGl2ci5uZXQvbnBtL2xlYWZsZXRAMS4yLjAvZGlzdC9sZWFmbGV0LmNzcyIgLz4KICAgIDxsaW5rIHJlbD0ic3R5bGVzaGVldCIgaHJlZj0iaHR0cHM6Ly9tYXhjZG4uYm9vdHN0cmFwY2RuLmNvbS9ib290c3RyYXAvMy4yLjAvY3NzL2Jvb3RzdHJhcC5taW4uY3NzIiAvPgogICAgPGxpbmsgcmVsPSJzdHlsZXNoZWV0IiBocmVmPSJodHRwczovL21heGNkbi5ib290c3RyYXBjZG4uY29tL2Jvb3RzdHJhcC8zLjIuMC9jc3MvYm9vdHN0cmFwLXRoZW1lLm1pbi5jc3MiIC8+CiAgICA8bGluayByZWw9InN0eWxlc2hlZXQiIGhyZWY9Imh0dHBzOi8vbWF4Y2RuLmJvb3RzdHJhcGNkbi5jb20vZm9udC1hd2Vzb21lLzQuNi4zL2Nzcy9mb250LWF3ZXNvbWUubWluLmNzcyIgLz4KICAgIDxsaW5rIHJlbD0ic3R5bGVzaGVldCIgaHJlZj0iaHR0cHM6Ly9jZG5qcy5jbG91ZGZsYXJlLmNvbS9hamF4L2xpYnMvTGVhZmxldC5hd2Vzb21lLW1hcmtlcnMvMi4wLjIvbGVhZmxldC5hd2Vzb21lLW1hcmtlcnMuY3NzIiAvPgogICAgPGxpbmsgcmVsPSJzdHlsZXNoZWV0IiBocmVmPSJodHRwczovL3Jhd2dpdC5jb20vcHl0aG9uLXZpc3VhbGl6YXRpb24vZm9saXVtL21hc3Rlci9mb2xpdW0vdGVtcGxhdGVzL2xlYWZsZXQuYXdlc29tZS5yb3RhdGUuY3NzIiAvPgogICAgPHN0eWxlPmh0bWwsIGJvZHkge3dpZHRoOiAxMDAlO2hlaWdodDogMTAwJTttYXJnaW46IDA7cGFkZGluZzogMDt9PC9zdHlsZT4KICAgIDxzdHlsZT4jbWFwIHtwb3NpdGlvbjphYnNvbHV0ZTt0b3A6MDtib3R0b206MDtyaWdodDowO2xlZnQ6MDt9PC9zdHlsZT4KICAgIAogICAgICAgICAgICA8c3R5bGU+ICNtYXBfYzg1OTAzMjc0NjI0NGU1ODliZGRjODY5ZmIxZDczYzIgewogICAgICAgICAgICAgICAgcG9zaXRpb24gOiByZWxhdGl2ZTsKICAgICAgICAgICAgICAgIHdpZHRoIDogMTAwLjAlOwogICAgICAgICAgICAgICAgaGVpZ2h0OiAxMDAuMCU7CiAgICAgICAgICAgICAgICBsZWZ0OiAwLjAlOwogICAgICAgICAgICAgICAgdG9wOiAwLjAlOwogICAgICAgICAgICAgICAgfQogICAgICAgICAgICA8L3N0eWxlPgogICAgICAgIAo8L2hlYWQ+Cjxib2R5PiAgICAKICAgIAogICAgICAgICAgICA8ZGl2IGNsYXNzPSJmb2xpdW0tbWFwIiBpZD0ibWFwX2M4NTkwMzI3NDYyNDRlNTg5YmRkYzg2OWZiMWQ3M2MyIiA+PC9kaXY+CiAgICAgICAgCjwvYm9keT4KPHNjcmlwdD4gICAgCiAgICAKCiAgICAgICAgICAgIAogICAgICAgICAgICAgICAgdmFyIGJvdW5kcyA9IG51bGw7CiAgICAgICAgICAgIAoKICAgICAgICAgICAgdmFyIG1hcF9jODU5MDMyNzQ2MjQ0ZTU4OWJkZGM4NjlmYjFkNzNjMiA9IEwubWFwKAogICAgICAgICAgICAgICAgICAgICAgICAgICAgICAgICAgJ21hcF9jODU5MDMyNzQ2MjQ0ZTU4OWJkZGM4NjlmYjFkNzNjMicsCiAgICAgICAgICAgICAgICAgICAgICAgICAgICAgICAgICB7Y2VudGVyOiBbLTEyLC00OV0sCiAgICAgICAgICAgICAgICAgICAgICAgICAgICAgICAgICB6b29tOiA0LAogICAgICAgICAgICAgICAgICAgICAgICAgICAgICAgICAgbWF4Qm91bmRzOiBib3VuZHMsCiAgICAgICAgICAgICAgICAgICAgICAgICAgICAgICAgICBsYXllcnM6IFtdLAogICAgICAgICAgICAgICAgICAgICAgICAgICAgICAgICAgd29ybGRDb3B5SnVtcDogZmFsc2UsCiAgICAgICAgICAgICAgICAgICAgICAgICAgICAgICAgICBjcnM6IEwuQ1JTLkVQU0czODU3CiAgICAgICAgICAgICAgICAgICAgICAgICAgICAgICAgIH0pOwogICAgICAgICAgICAKICAgICAgICAKICAgIAogICAgICAgICAgICB2YXIgdGlsZV9sYXllcl81Yjk3NTIxYTI3ZTk0ZmFjYWY2NzQ2MDJkMzI0ZTM2MiA9IEwudGlsZUxheWVyKAogICAgICAgICAgICAgICAgJ2h0dHBzOi8ve3N9LnRpbGUub3BlbnN0cmVldG1hcC5vcmcve3p9L3t4fS97eX0ucG5nJywKICAgICAgICAgICAgICAgIHsKICAiYXR0cmlidXRpb24iOiBudWxsLAogICJkZXRlY3RSZXRpbmEiOiBmYWxzZSwKICAibWF4Wm9vbSI6IDE4LAogICJtaW5ab29tIjogMSwKICAibm9XcmFwIjogZmFsc2UsCiAgInN1YmRvbWFpbnMiOiAiYWJjIgp9CiAgICAgICAgICAgICAgICApLmFkZFRvKG1hcF9jODU5MDMyNzQ2MjQ0ZTU4OWJkZGM4NjlmYjFkNzNjMik7CiAgICAgICAgCiAgICAKCiAgICAgICAgICAgIHZhciBtYXJrZXJfNzkwYTE0YzIxYWI2NDAyOTkxYzExMTRiMzk0MTE0YjEgPSBMLm1hcmtlcigKICAgICAgICAgICAgICAgIFstMy4wNywtNjEuNjZdLAogICAgICAgICAgICAgICAgewogICAgICAgICAgICAgICAgICAgIGljb246IG5ldyBMLkljb24uRGVmYXVsdCgpCiAgICAgICAgICAgICAgICAgICAgfQogICAgICAgICAgICAgICAgKQogICAgICAgICAgICAgICAgLmFkZFRvKG1hcF9jODU5MDMyNzQ2MjQ0ZTU4OWJkZGM4NjlmYjFkNzNjMik7CiAgICAgICAgICAgIAogICAgCiAgICAgICAgICAgIHZhciBwb3B1cF9mYTM4MmRlYTVlYjE0MDU4YmU2MjI5YjRhNDJjMDQzNSA9IEwucG9wdXAoe21heFdpZHRoOiAnMzAwJ30pOwoKICAgICAgICAgICAgCiAgICAgICAgICAgICAgICB2YXIgaHRtbF85NjFmNGJlYjhlNjk0YzFmOWZkYjEwYjZkOWM0YWU4MyA9ICQoJzxkaXYgaWQ9Imh0bWxfOTYxZjRiZWI4ZTY5NGMxZjlmZGIxMGI2ZDljNGFlODMiIHN0eWxlPSJ3aWR0aDogMTAwLjAlOyBoZWlnaHQ6IDEwMC4wJTsiPjwvZGl2PicpWzBdOwogICAgICAgICAgICAgICAgcG9wdXBfZmEzODJkZWE1ZWIxNDA1OGJlNjIyOWI0YTQyYzA0MzUuc2V0Q29udGVudChodG1sXzk2MWY0YmViOGU2OTRjMWY5ZmRiMTBiNmQ5YzRhZTgzKTsKICAgICAgICAgICAgCgogICAgICAgICAgICBtYXJrZXJfNzkwYTE0YzIxYWI2NDAyOTkxYzExMTRiMzk0MTE0YjEuYmluZFBvcHVwKHBvcHVwX2ZhMzgyZGVhNWViMTQwNThiZTYyMjliNGE0MmMwNDM1KTsKCiAgICAgICAgICAgIAogICAgICAgIAogICAgCgogICAgICAgICAgICB2YXIgbWFya2VyX2IzZjExNmMzNDQ1ZTQxMTM5NDg5ZWY0MmNjMTU0ZjQ4ID0gTC5tYXJrZXIoCiAgICAgICAgICAgICAgICBbLTEyLjk2LC0zOC41MV0sCiAgICAgICAgICAgICAgICB7CiAgICAgICAgICAgICAgICAgICAgaWNvbjogbmV3IEwuSWNvbi5EZWZhdWx0KCkKICAgICAgICAgICAgICAgICAgICB9CiAgICAgICAgICAgICAgICApCiAgICAgICAgICAgICAgICAuYWRkVG8obWFwX2M4NTkwMzI3NDYyNDRlNTg5YmRkYzg2OWZiMWQ3M2MyKTsKICAgICAgICAgICAgCiAgICAKICAgICAgICAgICAgdmFyIHBvcHVwX2FhOGE3MmEyMTAxMDRmNTNiMmExYjQ0Mzc4ZTZlZjQ5ID0gTC5wb3B1cCh7bWF4V2lkdGg6ICczMDAnfSk7CgogICAgICAgICAgICAKICAgICAgICAgICAgICAgIHZhciBodG1sX2E2MTk1YjNhNTM2MTQyMzViZTZiM2NhNTBlMmNhNTIzID0gJCgnPGRpdiBpZD0iaHRtbF9hNjE5NWIzYTUzNjE0MjM1YmU2YjNjYTUwZTJjYTUyMyIgc3R5bGU9IndpZHRoOiAxMDAuMCU7IGhlaWdodDogMTAwLjAlOyI+PC9kaXY+JylbMF07CiAgICAgICAgICAgICAgICBwb3B1cF9hYThhNzJhMjEwMTA0ZjUzYjJhMWI0NDM3OGU2ZWY0OS5zZXRDb250ZW50KGh0bWxfYTYxOTViM2E1MzYxNDIzNWJlNmIzY2E1MGUyY2E1MjMpOwogICAgICAgICAgICAKCiAgICAgICAgICAgIG1hcmtlcl9iM2YxMTZjMzQ0NWU0MTEzOTQ4OWVmNDJjYzE1NGY0OC5iaW5kUG9wdXAocG9wdXBfYWE4YTcyYTIxMDEwNGY1M2IyYTFiNDQzNzhlNmVmNDkpOwoKICAgICAgICAgICAgCiAgICAgICAgCiAgICAKCiAgICAgICAgICAgIHZhciBtYXJrZXJfMDQwNDhlOGQ0YzI2NGIzMTg2YTdjNTMyMGU2ZWEyZjYgPSBMLm1hcmtlcigKICAgICAgICAgICAgICAgIFstMy43MSwtMzguNTRdLAogICAgICAgICAgICAgICAgewogICAgICAgICAgICAgICAgICAgIGljb246IG5ldyBMLkljb24uRGVmYXVsdCgpCiAgICAgICAgICAgICAgICAgICAgfQogICAgICAgICAgICAgICAgKQogICAgICAgICAgICAgICAgLmFkZFRvKG1hcF9jODU5MDMyNzQ2MjQ0ZTU4OWJkZGM4NjlmYjFkNzNjMik7CiAgICAgICAgICAgIAogICAgCiAgICAgICAgICAgIHZhciBwb3B1cF9iMzRjZTZmNzEzNmQ0ODcyYjFhZTBkZmE2MTY1YzcyZCA9IEwucG9wdXAoe21heFdpZHRoOiAnMzAwJ30pOwoKICAgICAgICAgICAgCiAgICAgICAgICAgICAgICB2YXIgaHRtbF9hMDAxNDIwYTZlYzc0NDM3YTk4MjA5MGY0NjVlM2ExZSA9ICQoJzxkaXYgaWQ9Imh0bWxfYTAwMTQyMGE2ZWM3NDQzN2E5ODIwOTBmNDY1ZTNhMWUiIHN0eWxlPSJ3aWR0aDogMTAwLjAlOyBoZWlnaHQ6IDEwMC4wJTsiPjwvZGl2PicpWzBdOwogICAgICAgICAgICAgICAgcG9wdXBfYjM0Y2U2ZjcxMzZkNDg3MmIxYWUwZGZhNjE2NWM3MmQuc2V0Q29udGVudChodG1sX2EwMDE0MjBhNmVjNzQ0MzdhOTgyMDkwZjQ2NWUzYTFlKTsKICAgICAgICAgICAgCgogICAgICAgICAgICBtYXJrZXJfMDQwNDhlOGQ0YzI2NGIzMTg2YTdjNTMyMGU2ZWEyZjYuYmluZFBvcHVwKHBvcHVwX2IzNGNlNmY3MTM2ZDQ4NzJiMWFlMGRmYTYxNjVjNzJkKTsKCiAgICAgICAgICAgIAogICAgICAgIAogICAgCgogICAgICAgICAgICB2YXIgbWFya2VyXzg5YTBhMDhiYmU1OTRiMzI4NTRhN2UyODVjY2QzOTYwID0gTC5tYXJrZXIoCiAgICAgICAgICAgICAgICBbLTE1LjgzLC00Ny44Nl0sCiAgICAgICAgICAgICAgICB7CiAgICAgICAgICAgICAgICAgICAgaWNvbjogbmV3IEwuSWNvbi5EZWZhdWx0KCkKICAgICAgICAgICAgICAgICAgICB9CiAgICAgICAgICAgICAgICApCiAgICAgICAgICAgICAgICAuYWRkVG8obWFwX2M4NTkwMzI3NDYyNDRlNTg5YmRkYzg2OWZiMWQ3M2MyKTsKICAgICAgICAgICAgCiAgICAKICAgICAgICAgICAgdmFyIHBvcHVwX2JkOTFlOWIyZDY2MTQxYmFiMTgwMDJmNTljNDFkZmRmID0gTC5wb3B1cCh7bWF4V2lkdGg6ICczMDAnfSk7CgogICAgICAgICAgICAKICAgICAgICAgICAgICAgIHZhciBodG1sX2I4MDI5NDVhMmEyZDRlZDE4MDM4NDlkMzRhMmQ2OWM2ID0gJCgnPGRpdiBpZD0iaHRtbF9iODAyOTQ1YTJhMmQ0ZWQxODAzODQ5ZDM0YTJkNjljNiIgc3R5bGU9IndpZHRoOiAxMDAuMCU7IGhlaWdodDogMTAwLjAlOyI+PC9kaXY+JylbMF07CiAgICAgICAgICAgICAgICBwb3B1cF9iZDkxZTliMmQ2NjE0MWJhYjE4MDAyZjU5YzQxZGZkZi5zZXRDb250ZW50KGh0bWxfYjgwMjk0NWEyYTJkNGVkMTgwMzg0OWQzNGEyZDY5YzYpOwogICAgICAgICAgICAKCiAgICAgICAgICAgIG1hcmtlcl84OWEwYTA4YmJlNTk0YjMyODU0YTdlMjg1Y2NkMzk2MC5iaW5kUG9wdXAocG9wdXBfYmQ5MWU5YjJkNjYxNDFiYWIxODAwMmY1OWM0MWRmZGYpOwoKICAgICAgICAgICAgCiAgICAgICAgCiAgICAKCiAgICAgICAgICAgIHZhciBtYXJrZXJfMDM3ZjJhNTI5ZjcyNDIwMzgxN2M1MTE1OGZiMDJjMDUgPSBMLm1hcmtlcigKICAgICAgICAgICAgICAgIFstMTYuNjQsLTQ5LjMxXSwKICAgICAgICAgICAgICAgIHsKICAgICAgICAgICAgICAgICAgICBpY29uOiBuZXcgTC5JY29uLkRlZmF1bHQoKQogICAgICAgICAgICAgICAgICAgIH0KICAgICAgICAgICAgICAgICkKICAgICAgICAgICAgICAgIC5hZGRUbyhtYXBfYzg1OTAzMjc0NjI0NGU1ODliZGRjODY5ZmIxZDczYzIpOwogICAgICAgICAgICAKICAgIAogICAgICAgICAgICB2YXIgcG9wdXBfNTkzOGVkMTVlOGMwNDhjNWFiYTQwYjUwZTJjNjI5MWYgPSBMLnBvcHVwKHttYXhXaWR0aDogJzMwMCd9KTsKCiAgICAgICAgICAgIAogICAgICAgICAgICAgICAgdmFyIGh0bWxfNTFjYWU1M2JlY2Y1NDBkZjgzNjI5ZjdkZTZjNzFkNTAgPSAkKCc8ZGl2IGlkPSJodG1sXzUxY2FlNTNiZWNmNTQwZGY4MzYyOWY3ZGU2YzcxZDUwIiBzdHlsZT0id2lkdGg6IDEwMC4wJTsgaGVpZ2h0OiAxMDAuMCU7Ij48L2Rpdj4nKVswXTsKICAgICAgICAgICAgICAgIHBvcHVwXzU5MzhlZDE1ZThjMDQ4YzVhYmE0MGI1MGUyYzYyOTFmLnNldENvbnRlbnQoaHRtbF81MWNhZTUzYmVjZjU0MGRmODM2MjlmN2RlNmM3MWQ1MCk7CiAgICAgICAgICAgIAoKICAgICAgICAgICAgbWFya2VyXzAzN2YyYTUyOWY3MjQyMDM4MTdjNTExNThmYjAyYzA1LmJpbmRQb3B1cChwb3B1cF81OTM4ZWQxNWU4YzA0OGM1YWJhNDBiNTBlMmM2MjkxZik7CgogICAgICAgICAgICAKICAgICAgICAKICAgIAoKICAgICAgICAgICAgdmFyIG1hcmtlcl83ZGRmNjkxYTk0ZmI0NTMwYmNjNzY0NjVhM2Y1ZGQ3OCA9IEwubWFya2VyKAogICAgICAgICAgICAgICAgWy0yLjU1LC00NC4zXSwKICAgICAgICAgICAgICAgIHsKICAgICAgICAgICAgICAgICAgICBpY29uOiBuZXcgTC5JY29uLkRlZmF1bHQoKQogICAgICAgICAgICAgICAgICAgIH0KICAgICAgICAgICAgICAgICkKICAgICAgICAgICAgICAgIC5hZGRUbyhtYXBfYzg1OTAzMjc0NjI0NGU1ODliZGRjODY5ZmIxZDczYzIpOwogICAgICAgICAgICAKICAgIAogICAgICAgICAgICB2YXIgcG9wdXBfNGNlZDA0NDZiMDczNGY4MWI0NGY4YzljNjI4NWVlYzEgPSBMLnBvcHVwKHttYXhXaWR0aDogJzMwMCd9KTsKCiAgICAgICAgICAgIAogICAgICAgICAgICAgICAgdmFyIGh0bWxfMzY4OGI3ODRmYTRlNDljODhlNjQwMDBiODFmYjE3NDAgPSAkKCc8ZGl2IGlkPSJodG1sXzM2ODhiNzg0ZmE0ZTQ5Yzg4ZTY0MDAwYjgxZmIxNzQwIiBzdHlsZT0id2lkdGg6IDEwMC4wJTsgaGVpZ2h0OiAxMDAuMCU7Ij48L2Rpdj4nKVswXTsKICAgICAgICAgICAgICAgIHBvcHVwXzRjZWQwNDQ2YjA3MzRmODFiNDRmOGM5YzYyODVlZWMxLnNldENvbnRlbnQoaHRtbF8zNjg4Yjc4NGZhNGU0OWM4OGU2NDAwMGI4MWZiMTc0MCk7CiAgICAgICAgICAgIAoKICAgICAgICAgICAgbWFya2VyXzdkZGY2OTFhOTRmYjQ1MzBiY2M3NjQ2NWEzZjVkZDc4LmJpbmRQb3B1cChwb3B1cF80Y2VkMDQ0NmIwNzM0ZjgxYjQ0ZjhjOWM2Mjg1ZWVjMSk7CgogICAgICAgICAgICAKICAgICAgICAKICAgIAoKICAgICAgICAgICAgdmFyIG1hcmtlcl8xNTQwZTQ2Yzk2ZTE0YmZjOTAzODg1MjkwYmMxODA5MCA9IEwubWFya2VyKAogICAgICAgICAgICAgICAgWy0xOC4xLC00NC4zOF0sCiAgICAgICAgICAgICAgICB7CiAgICAgICAgICAgICAgICAgICAgaWNvbjogbmV3IEwuSWNvbi5EZWZhdWx0KCkKICAgICAgICAgICAgICAgICAgICB9CiAgICAgICAgICAgICAgICApCiAgICAgICAgICAgICAgICAuYWRkVG8obWFwX2M4NTkwMzI3NDYyNDRlNTg5YmRkYzg2OWZiMWQ3M2MyKTsKICAgICAgICAgICAgCiAgICAKICAgICAgICAgICAgdmFyIHBvcHVwX2U5NTAxZDNjN2E5NjQxNGQ4MDRiNDYzYmI1MmJlMzU2ID0gTC5wb3B1cCh7bWF4V2lkdGg6ICczMDAnfSk7CgogICAgICAgICAgICAKICAgICAgICAgICAgICAgIHZhciBodG1sX2FlZTk0MDc4OTIzMzQ1MDM5MzA5YjQ2YTU5NGViZTk1ID0gJCgnPGRpdiBpZD0iaHRtbF9hZWU5NDA3ODkyMzM0NTAzOTMwOWI0NmE1OTRlYmU5NSIgc3R5bGU9IndpZHRoOiAxMDAuMCU7IGhlaWdodDogMTAwLjAlOyI+PC9kaXY+JylbMF07CiAgICAgICAgICAgICAgICBwb3B1cF9lOTUwMWQzYzdhOTY0MTRkODA0YjQ2M2JiNTJiZTM1Ni5zZXRDb250ZW50KGh0bWxfYWVlOTQwNzg5MjMzNDUwMzkzMDliNDZhNTk0ZWJlOTUpOwogICAgICAgICAgICAKCiAgICAgICAgICAgIG1hcmtlcl8xNTQwZTQ2Yzk2ZTE0YmZjOTAzODg1MjkwYmMxODA5MC5iaW5kUG9wdXAocG9wdXBfZTk1MDFkM2M3YTk2NDE0ZDgwNGI0NjNiYjUyYmUzNTYpOwoKICAgICAgICAgICAgCiAgICAgICAgCiAgICAKCiAgICAgICAgICAgIHZhciBtYXJrZXJfYjIyNDA3MzhkYmI1NGE4Mzk5ZWFhYzJhNDI3MGFkYzkgPSBMLm1hcmtlcigKICAgICAgICAgICAgICAgIFstNS41MywtNTIuMjldLAogICAgICAgICAgICAgICAgewogICAgICAgICAgICAgICAgICAgIGljb246IG5ldyBMLkljb24uRGVmYXVsdCgpCiAgICAgICAgICAgICAgICAgICAgfQogICAgICAgICAgICAgICAgKQogICAgICAgICAgICAgICAgLmFkZFRvKG1hcF9jODU5MDMyNzQ2MjQ0ZTU4OWJkZGM4NjlmYjFkNzNjMik7CiAgICAgICAgICAgIAogICAgCiAgICAgICAgICAgIHZhciBwb3B1cF83YWRkY2IxMzA5MTY0OTZhOTk1MDg0MjE2YTlmYjViOSA9IEwucG9wdXAoe21heFdpZHRoOiAnMzAwJ30pOwoKICAgICAgICAgICAgCiAgICAgICAgICAgICAgICB2YXIgaHRtbF84ZjhjMDgxMzE4MmU0MGViYWFlMWYwOWU3NjUxNTIwYSA9ICQoJzxkaXYgaWQ9Imh0bWxfOGY4YzA4MTMxODJlNDBlYmFhZTFmMDllNzY1MTUyMGEiIHN0eWxlPSJ3aWR0aDogMTAwLjAlOyBoZWlnaHQ6IDEwMC4wJTsiPjwvZGl2PicpWzBdOwogICAgICAgICAgICAgICAgcG9wdXBfN2FkZGNiMTMwOTE2NDk2YTk5NTA4NDIxNmE5ZmI1Yjkuc2V0Q29udGVudChodG1sXzhmOGMwODEzMTgyZTQwZWJhYWUxZjA5ZTc2NTE1MjBhKTsKICAgICAgICAgICAgCgogICAgICAgICAgICBtYXJrZXJfYjIyNDA3MzhkYmI1NGE4Mzk5ZWFhYzJhNDI3MGFkYzkuYmluZFBvcHVwKHBvcHVwXzdhZGRjYjEzMDkxNjQ5NmE5OTUwODQyMTZhOWZiNWI5KTsKCiAgICAgICAgICAgIAogICAgICAgIAogICAgCgogICAgICAgICAgICB2YXIgbWFya2VyX2E1NjkxNTMwYjAxODRmYThhNWJjY2U5ZjVjMzE1OWFjID0gTC5tYXJrZXIoCiAgICAgICAgICAgICAgICBbLTI0Ljg5LC01MS41NV0sCiAgICAgICAgICAgICAgICB7CiAgICAgICAgICAgICAgICAgICAgaWNvbjogbmV3IEwuSWNvbi5EZWZhdWx0KCkKICAgICAgICAgICAgICAgICAgICB9CiAgICAgICAgICAgICAgICApCiAgICAgICAgICAgICAgICAuYWRkVG8obWFwX2M4NTkwMzI3NDYyNDRlNTg5YmRkYzg2OWZiMWQ3M2MyKTsKICAgICAgICAgICAgCiAgICAKICAgICAgICAgICAgdmFyIHBvcHVwXzdkOWE3MTVkYTEzNjQ4NTBhN2RhMDZiYjQzOTMzM2EwID0gTC5wb3B1cCh7bWF4V2lkdGg6ICczMDAnfSk7CgogICAgICAgICAgICAKICAgICAgICAgICAgICAgIHZhciBodG1sXzc5NzkzNGUwNzc1MDRkYWY4NDQwYzc0NjcyOTc4NGMxID0gJCgnPGRpdiBpZD0iaHRtbF83OTc5MzRlMDc3NTA0ZGFmODQ0MGM3NDY3Mjk3ODRjMSIgc3R5bGU9IndpZHRoOiAxMDAuMCU7IGhlaWdodDogMTAwLjAlOyI+PC9kaXY+JylbMF07CiAgICAgICAgICAgICAgICBwb3B1cF83ZDlhNzE1ZGExMzY0ODUwYTdkYTA2YmI0MzkzMzNhMC5zZXRDb250ZW50KGh0bWxfNzk3OTM0ZTA3NzUwNGRhZjg0NDBjNzQ2NzI5Nzg0YzEpOwogICAgICAgICAgICAKCiAgICAgICAgICAgIG1hcmtlcl9hNTY5MTUzMGIwMTg0ZmE4YTViY2NlOWY1YzMxNTlhYy5iaW5kUG9wdXAocG9wdXBfN2Q5YTcxNWRhMTM2NDg1MGE3ZGEwNmJiNDM5MzMzYTApOwoKICAgICAgICAgICAgCiAgICAgICAgCiAgICAKCiAgICAgICAgICAgIHZhciBtYXJrZXJfYThmZDdiN2ZmMGUyNGZiOTgzYTc4ZTU3NjEzMmFlMDAgPSBMLm1hcmtlcigKICAgICAgICAgICAgICAgIFstOC4yOCwtMzUuMDddLAogICAgICAgICAgICAgICAgewogICAgICAgICAgICAgICAgICAgIGljb246IG5ldyBMLkljb24uRGVmYXVsdCgpCiAgICAgICAgICAgICAgICAgICAgfQogICAgICAgICAgICAgICAgKQogICAgICAgICAgICAgICAgLmFkZFRvKG1hcF9jODU5MDMyNzQ2MjQ0ZTU4OWJkZGM4NjlmYjFkNzNjMik7CiAgICAgICAgICAgIAogICAgCiAgICAgICAgICAgIHZhciBwb3B1cF9mY2Q2MTE5MGMxZTA0OGNkYWYxN2IwZDZhMzFhZTdhNSA9IEwucG9wdXAoe21heFdpZHRoOiAnMzAwJ30pOwoKICAgICAgICAgICAgCiAgICAgICAgICAgICAgICB2YXIgaHRtbF9hNDRiZDg2NmE2MzI0MDNiYWI5NjllMTY1NGJmOTJiYSA9ICQoJzxkaXYgaWQ9Imh0bWxfYTQ0YmQ4NjZhNjMyNDAzYmFiOTY5ZTE2NTRiZjkyYmEiIHN0eWxlPSJ3aWR0aDogMTAwLjAlOyBoZWlnaHQ6IDEwMC4wJTsiPjwvZGl2PicpWzBdOwogICAgICAgICAgICAgICAgcG9wdXBfZmNkNjExOTBjMWUwNDhjZGFmMTdiMGQ2YTMxYWU3YTUuc2V0Q29udGVudChodG1sX2E0NGJkODY2YTYzMjQwM2JhYjk2OWUxNjU0YmY5MmJhKTsKICAgICAgICAgICAgCgogICAgICAgICAgICBtYXJrZXJfYThmZDdiN2ZmMGUyNGZiOTgzYTc4ZTU3NjEzMmFlMDAuYmluZFBvcHVwKHBvcHVwX2ZjZDYxMTkwYzFlMDQ4Y2RhZjE3YjBkNmEzMWFlN2E1KTsKCiAgICAgICAgICAgIAogICAgICAgIAogICAgCgogICAgICAgICAgICB2YXIgbWFya2VyX2MwMDU2ZmJhMTdhODQ0MjhiZDQ0MWI3OTMyNWU3NmE1ID0gTC5tYXJrZXIoCiAgICAgICAgICAgICAgICBbLTIyLjg0LC00My4xNV0sCiAgICAgICAgICAgICAgICB7CiAgICAgICAgICAgICAgICAgICAgaWNvbjogbmV3IEwuSWNvbi5EZWZhdWx0KCkKICAgICAgICAgICAgICAgICAgICB9CiAgICAgICAgICAgICAgICApCiAgICAgICAgICAgICAgICAuYWRkVG8obWFwX2M4NTkwMzI3NDYyNDRlNTg5YmRkYzg2OWZiMWQ3M2MyKTsKICAgICAgICAgICAgCiAgICAKICAgICAgICAgICAgdmFyIHBvcHVwX2E5NWE0Y2Q0ZDFmNzQwNmU5M2Y4MTlhMjQ3MTMyYjA3ID0gTC5wb3B1cCh7bWF4V2lkdGg6ICczMDAnfSk7CgogICAgICAgICAgICAKICAgICAgICAgICAgICAgIHZhciBodG1sX2JiNjliMjk1MDkwMzQ1ZjU4ZGI0MDQ4NWFhODYzNGY5ID0gJCgnPGRpdiBpZD0iaHRtbF9iYjY5YjI5NTA5MDM0NWY1OGRiNDA0ODVhYTg2MzRmOSIgc3R5bGU9IndpZHRoOiAxMDAuMCU7IGhlaWdodDogMTAwLjAlOyI+PC9kaXY+JylbMF07CiAgICAgICAgICAgICAgICBwb3B1cF9hOTVhNGNkNGQxZjc0MDZlOTNmODE5YTI0NzEzMmIwNy5zZXRDb250ZW50KGh0bWxfYmI2OWIyOTUwOTAzNDVmNThkYjQwNDg1YWE4NjM0ZjkpOwogICAgICAgICAgICAKCiAgICAgICAgICAgIG1hcmtlcl9jMDA1NmZiYTE3YTg0NDI4YmQ0NDFiNzkzMjVlNzZhNS5iaW5kUG9wdXAocG9wdXBfYTk1YTRjZDRkMWY3NDA2ZTkzZjgxOWEyNDcxMzJiMDcpOwoKICAgICAgICAgICAgCiAgICAgICAgCiAgICAKCiAgICAgICAgICAgIHZhciBtYXJrZXJfMGEyMDRjZjBkNmVmNDhjMTk4ODg3NWQ2NmI0NDYwYmIgPSBMLm1hcmtlcigKICAgICAgICAgICAgICAgIFstMzAuMDEsLTUxLjIyXSwKICAgICAgICAgICAgICAgIHsKICAgICAgICAgICAgICAgICAgICBpY29uOiBuZXcgTC5JY29uLkRlZmF1bHQoKQogICAgICAgICAgICAgICAgICAgIH0KICAgICAgICAgICAgICAgICkKICAgICAgICAgICAgICAgIC5hZGRUbyhtYXBfYzg1OTAzMjc0NjI0NGU1ODliZGRjODY5ZmIxZDczYzIpOwogICAgICAgICAgICAKICAgIAogICAgICAgICAgICB2YXIgcG9wdXBfMTY3ZGU0NGJlZTc0NGQxZWI5ODAzNWY0OGE2MjQ2ZWEgPSBMLnBvcHVwKHttYXhXaWR0aDogJzMwMCd9KTsKCiAgICAgICAgICAgIAogICAgICAgICAgICAgICAgdmFyIGh0bWxfM2NhYzkxNGZhODZlNGRlYmI3NWMzZDZhYjgwZGQ2ZDQgPSAkKCc8ZGl2IGlkPSJodG1sXzNjYWM5MTRmYTg2ZTRkZWJiNzVjM2Q2YWI4MGRkNmQ0IiBzdHlsZT0id2lkdGg6IDEwMC4wJTsgaGVpZ2h0OiAxMDAuMCU7Ij48L2Rpdj4nKVswXTsKICAgICAgICAgICAgICAgIHBvcHVwXzE2N2RlNDRiZWU3NDRkMWViOTgwMzVmNDhhNjI0NmVhLnNldENvbnRlbnQoaHRtbF8zY2FjOTE0ZmE4NmU0ZGViYjc1YzNkNmFiODBkZDZkNCk7CiAgICAgICAgICAgIAoKICAgICAgICAgICAgbWFya2VyXzBhMjA0Y2YwZDZlZjQ4YzE5ODg4NzVkNjZiNDQ2MGJiLmJpbmRQb3B1cChwb3B1cF8xNjdkZTQ0YmVlNzQ0ZDFlYjk4MDM1ZjQ4YTYyNDZlYSk7CgogICAgICAgICAgICAKICAgICAgICAKICAgIAoKICAgICAgICAgICAgdmFyIG1hcmtlcl8yZGRiYzA5NzU2NDY0NzkzODZhYzlkN2M0ZTkwNTFlNSA9IEwubWFya2VyKAogICAgICAgICAgICAgICAgWy0yMy41NSwtNDYuNjRdLAogICAgICAgICAgICAgICAgewogICAgICAgICAgICAgICAgICAgIGljb246IG5ldyBMLkljb24uRGVmYXVsdCgpCiAgICAgICAgICAgICAgICAgICAgfQogICAgICAgICAgICAgICAgKQogICAgICAgICAgICAgICAgLmFkZFRvKG1hcF9jODU5MDMyNzQ2MjQ0ZTU4OWJkZGM4NjlmYjFkNzNjMik7CiAgICAgICAgICAgIAogICAgCiAgICAgICAgICAgIHZhciBwb3B1cF8zZGMxNDI3OTZhOTk0ODQ1YTQwZjg5OGVlYzRkMDk5YiA9IEwucG9wdXAoe21heFdpZHRoOiAnMzAwJ30pOwoKICAgICAgICAgICAgCiAgICAgICAgICAgICAgICB2YXIgaHRtbF9kZmVlZjFiMDM2MTY0Zjg0OTBmZDRhNzA0YmNkMmRjNSA9ICQoJzxkaXYgaWQ9Imh0bWxfZGZlZWYxYjAzNjE2NGY4NDkwZmQ0YTcwNGJjZDJkYzUiIHN0eWxlPSJ3aWR0aDogMTAwLjAlOyBoZWlnaHQ6IDEwMC4wJTsiPjwvZGl2PicpWzBdOwogICAgICAgICAgICAgICAgcG9wdXBfM2RjMTQyNzk2YTk5NDg0NWE0MGY4OThlZWM0ZDA5OWIuc2V0Q29udGVudChodG1sX2RmZWVmMWIwMzYxNjRmODQ5MGZkNGE3MDRiY2QyZGM1KTsKICAgICAgICAgICAgCgogICAgICAgICAgICBtYXJrZXJfMmRkYmMwOTc1NjQ2NDc5Mzg2YWM5ZDdjNGU5MDUxZTUuYmluZFBvcHVwKHBvcHVwXzNkYzE0Mjc5NmE5OTQ4NDVhNDBmODk4ZWVjNGQwOTliKTsKCiAgICAgICAgICAgIAogICAgICAgIAo8L3NjcmlwdD4=\" style=\"position:absolute;width:100%;height:100%;left:0;top:0;border:none !important;\" allowfullscreen webkitallowfullscreen mozallowfullscreen></iframe></div></div>"
      ],
      "text/plain": [
       "<folium.folium.Map at 0x10b5e84a8>"
      ]
     },
     "execution_count": 189,
     "metadata": {},
     "output_type": "execute_result"
    }
   ],
   "source": [
    "mapa = folium.Map(location=[-12, -49], zoom_start=4)\n",
    "\n",
    "text = []  \n",
    "#tts[i] = '|'.join(trends[:5])\n",
    "for i in range(contador):\n",
    "    z = ''\n",
    "    z.join(trends[:5])\n",
    "    text.append(z)\n",
    "\n",
    "#print(text)\n",
    "\n",
    "for i in range(contador):\n",
    "    folium.Marker(lista_de_coordenadas[i], popup=text[i]).add_to(mapa)##colocar a localização e o nome\n",
    "\n",
    "#renderiza o mapa\n",
    "mapa\n",
    "#print('test2')"
   ]
  },
  {
   "cell_type": "code",
   "execution_count": null,
   "metadata": {},
   "outputs": [],
   "source": []
  }
 ],
 "metadata": {
  "kernelspec": {
   "display_name": "Python 3",
   "language": "python",
   "name": "python3"
  },
  "language_info": {
   "codemirror_mode": {
    "name": "ipython",
    "version": 3
   },
   "file_extension": ".py",
   "mimetype": "text/x-python",
   "name": "python",
   "nbconvert_exporter": "python",
   "pygments_lexer": "ipython3",
   "version": "3.6.3"
  }
 },
 "nbformat": 4,
 "nbformat_minor": 2
}
